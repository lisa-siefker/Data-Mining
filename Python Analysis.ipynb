{
 "cells": [
  {
   "cell_type": "code",
   "execution_count": 39,
   "id": "3d5f5661",
   "metadata": {},
   "outputs": [
    {
     "data": {
      "text/html": [
       "<div>\n",
       "<style scoped>\n",
       "    .dataframe tbody tr th:only-of-type {\n",
       "        vertical-align: middle;\n",
       "    }\n",
       "\n",
       "    .dataframe tbody tr th {\n",
       "        vertical-align: top;\n",
       "    }\n",
       "\n",
       "    .dataframe thead th {\n",
       "        text-align: right;\n",
       "    }\n",
       "</style>\n",
       "<table border=\"1\" class=\"dataframe\">\n",
       "  <thead>\n",
       "    <tr style=\"text-align: right;\">\n",
       "      <th></th>\n",
       "      <th>artist</th>\n",
       "      <th>song</th>\n",
       "      <th>duration_ms</th>\n",
       "      <th>explicit</th>\n",
       "      <th>year</th>\n",
       "      <th>popularity</th>\n",
       "      <th>danceability</th>\n",
       "      <th>energy</th>\n",
       "      <th>key</th>\n",
       "      <th>loudness</th>\n",
       "      <th>mode</th>\n",
       "      <th>speechiness</th>\n",
       "      <th>acousticness</th>\n",
       "      <th>instrumentalness</th>\n",
       "      <th>liveness</th>\n",
       "      <th>valence</th>\n",
       "      <th>tempo</th>\n",
       "      <th>genre</th>\n",
       "    </tr>\n",
       "  </thead>\n",
       "  <tbody>\n",
       "    <tr>\n",
       "      <th>0</th>\n",
       "      <td>Britney Spears</td>\n",
       "      <td>Oops!...I Did It Again</td>\n",
       "      <td>211160</td>\n",
       "      <td>False</td>\n",
       "      <td>2000</td>\n",
       "      <td>77</td>\n",
       "      <td>0.751</td>\n",
       "      <td>0.834</td>\n",
       "      <td>1</td>\n",
       "      <td>-5.444</td>\n",
       "      <td>0</td>\n",
       "      <td>0.0437</td>\n",
       "      <td>0.3000</td>\n",
       "      <td>0.000018</td>\n",
       "      <td>0.3550</td>\n",
       "      <td>0.894</td>\n",
       "      <td>95.053</td>\n",
       "      <td>pop</td>\n",
       "    </tr>\n",
       "    <tr>\n",
       "      <th>1</th>\n",
       "      <td>blink-182</td>\n",
       "      <td>All The Small Things</td>\n",
       "      <td>167066</td>\n",
       "      <td>False</td>\n",
       "      <td>1999</td>\n",
       "      <td>79</td>\n",
       "      <td>0.434</td>\n",
       "      <td>0.897</td>\n",
       "      <td>0</td>\n",
       "      <td>-4.918</td>\n",
       "      <td>1</td>\n",
       "      <td>0.0488</td>\n",
       "      <td>0.0103</td>\n",
       "      <td>0.000000</td>\n",
       "      <td>0.6120</td>\n",
       "      <td>0.684</td>\n",
       "      <td>148.726</td>\n",
       "      <td>rock, pop</td>\n",
       "    </tr>\n",
       "    <tr>\n",
       "      <th>2</th>\n",
       "      <td>Faith Hill</td>\n",
       "      <td>Breathe</td>\n",
       "      <td>250546</td>\n",
       "      <td>False</td>\n",
       "      <td>1999</td>\n",
       "      <td>66</td>\n",
       "      <td>0.529</td>\n",
       "      <td>0.496</td>\n",
       "      <td>7</td>\n",
       "      <td>-9.007</td>\n",
       "      <td>1</td>\n",
       "      <td>0.0290</td>\n",
       "      <td>0.1730</td>\n",
       "      <td>0.000000</td>\n",
       "      <td>0.2510</td>\n",
       "      <td>0.278</td>\n",
       "      <td>136.859</td>\n",
       "      <td>pop, country</td>\n",
       "    </tr>\n",
       "    <tr>\n",
       "      <th>3</th>\n",
       "      <td>Bon Jovi</td>\n",
       "      <td>It's My Life</td>\n",
       "      <td>224493</td>\n",
       "      <td>False</td>\n",
       "      <td>2000</td>\n",
       "      <td>78</td>\n",
       "      <td>0.551</td>\n",
       "      <td>0.913</td>\n",
       "      <td>0</td>\n",
       "      <td>-4.063</td>\n",
       "      <td>0</td>\n",
       "      <td>0.0466</td>\n",
       "      <td>0.0263</td>\n",
       "      <td>0.000013</td>\n",
       "      <td>0.3470</td>\n",
       "      <td>0.544</td>\n",
       "      <td>119.992</td>\n",
       "      <td>rock, metal</td>\n",
       "    </tr>\n",
       "    <tr>\n",
       "      <th>4</th>\n",
       "      <td>*NSYNC</td>\n",
       "      <td>Bye Bye Bye</td>\n",
       "      <td>200560</td>\n",
       "      <td>False</td>\n",
       "      <td>2000</td>\n",
       "      <td>65</td>\n",
       "      <td>0.614</td>\n",
       "      <td>0.928</td>\n",
       "      <td>8</td>\n",
       "      <td>-4.806</td>\n",
       "      <td>0</td>\n",
       "      <td>0.0516</td>\n",
       "      <td>0.0408</td>\n",
       "      <td>0.001040</td>\n",
       "      <td>0.0845</td>\n",
       "      <td>0.879</td>\n",
       "      <td>172.656</td>\n",
       "      <td>pop</td>\n",
       "    </tr>\n",
       "  </tbody>\n",
       "</table>\n",
       "</div>"
      ],
      "text/plain": [
       "           artist                    song  duration_ms  explicit  year  \\\n",
       "0  Britney Spears  Oops!...I Did It Again       211160     False  2000   \n",
       "1       blink-182    All The Small Things       167066     False  1999   \n",
       "2      Faith Hill                 Breathe       250546     False  1999   \n",
       "3        Bon Jovi            It's My Life       224493     False  2000   \n",
       "4          *NSYNC             Bye Bye Bye       200560     False  2000   \n",
       "\n",
       "   popularity  danceability  energy  key  loudness  mode  speechiness  \\\n",
       "0          77         0.751   0.834    1    -5.444     0       0.0437   \n",
       "1          79         0.434   0.897    0    -4.918     1       0.0488   \n",
       "2          66         0.529   0.496    7    -9.007     1       0.0290   \n",
       "3          78         0.551   0.913    0    -4.063     0       0.0466   \n",
       "4          65         0.614   0.928    8    -4.806     0       0.0516   \n",
       "\n",
       "   acousticness  instrumentalness  liveness  valence    tempo         genre  \n",
       "0        0.3000          0.000018    0.3550    0.894   95.053           pop  \n",
       "1        0.0103          0.000000    0.6120    0.684  148.726     rock, pop  \n",
       "2        0.1730          0.000000    0.2510    0.278  136.859  pop, country  \n",
       "3        0.0263          0.000013    0.3470    0.544  119.992   rock, metal  \n",
       "4        0.0408          0.001040    0.0845    0.879  172.656           pop  "
      ]
     },
     "execution_count": 39,
     "metadata": {},
     "output_type": "execute_result"
    }
   ],
   "source": [
    "import pandas as pd\n",
    "\n",
    "#read file into a panda data frame \n",
    "df = pd.read_csv('C:/Users/lisas/Desktop/songs_normalize.csv')\n",
    "\n",
    "#show top 5 rows of data frame\n",
    "df.head(5)"
   ]
  },
  {
   "cell_type": "code",
   "execution_count": 40,
   "id": "17188324",
   "metadata": {},
   "outputs": [
    {
     "data": {
      "text/plain": [
       "(2000, 18)"
      ]
     },
     "execution_count": 40,
     "metadata": {},
     "output_type": "execute_result"
    }
   ],
   "source": [
    "#what are dimensions of data\n",
    "df.shape"
   ]
  },
  {
   "cell_type": "code",
   "execution_count": 41,
   "id": "594be236",
   "metadata": {},
   "outputs": [
    {
     "name": "stdout",
     "output_type": "stream",
     "text": [
      "<class 'pandas.core.frame.DataFrame'>\n",
      "RangeIndex: 2000 entries, 0 to 1999\n",
      "Data columns (total 18 columns):\n",
      " #   Column            Non-Null Count  Dtype  \n",
      "---  ------            --------------  -----  \n",
      " 0   artist            2000 non-null   object \n",
      " 1   song              2000 non-null   object \n",
      " 2   duration_ms       2000 non-null   int64  \n",
      " 3   explicit          2000 non-null   bool   \n",
      " 4   year              2000 non-null   int64  \n",
      " 5   popularity        2000 non-null   int64  \n",
      " 6   danceability      2000 non-null   float64\n",
      " 7   energy            2000 non-null   float64\n",
      " 8   key               2000 non-null   int64  \n",
      " 9   loudness          2000 non-null   float64\n",
      " 10  mode              2000 non-null   int64  \n",
      " 11  speechiness       2000 non-null   float64\n",
      " 12  acousticness      2000 non-null   float64\n",
      " 13  instrumentalness  2000 non-null   float64\n",
      " 14  liveness          2000 non-null   float64\n",
      " 15  valence           2000 non-null   float64\n",
      " 16  tempo             2000 non-null   float64\n",
      " 17  genre             2000 non-null   object \n",
      "dtypes: bool(1), float64(9), int64(5), object(3)\n",
      "memory usage: 267.7+ KB\n"
     ]
    }
   ],
   "source": [
    "#confirming no nulls \n",
    "df.info()"
   ]
  },
  {
   "cell_type": "code",
   "execution_count": 42,
   "id": "d58923b7",
   "metadata": {},
   "outputs": [
    {
     "data": {
      "text/plain": [
       "count      2000\n",
       "unique     1879\n",
       "top       Sorry\n",
       "freq          5\n",
       "Name: song, dtype: object"
      ]
     },
     "execution_count": 42,
     "metadata": {},
     "output_type": "execute_result"
    }
   ],
   "source": [
    "#are any songs repeated? Yes\n",
    "df.song.describe()"
   ]
  },
  {
   "cell_type": "code",
   "execution_count": 43,
   "id": "e4924857",
   "metadata": {
    "scrolled": true
   },
   "outputs": [
    {
     "data": {
      "text/plain": [
       "song\n",
       "Sorry                   5\n",
       "Don't                   3\n",
       "Closer                  3\n",
       "Breathe                 3\n",
       "It's My Life            3\n",
       "                       ..\n",
       "Dani California         1\n",
       "What Hurts The Most     1\n",
       "You Know I'm No Good    1\n",
       "Ms. New Booty           1\n",
       "Circles                 1\n",
       "Name: count, Length: 1879, dtype: int64"
      ]
     },
     "execution_count": 43,
     "metadata": {},
     "output_type": "execute_result"
    }
   ],
   "source": [
    "#are any songs repeated? Yes\n",
    "df.song.value_counts()"
   ]
  },
  {
   "cell_type": "code",
   "execution_count": 44,
   "id": "bce95fdc",
   "metadata": {},
   "outputs": [
    {
     "data": {
      "text/html": [
       "<div>\n",
       "<style scoped>\n",
       "    .dataframe tbody tr th:only-of-type {\n",
       "        vertical-align: middle;\n",
       "    }\n",
       "\n",
       "    .dataframe tbody tr th {\n",
       "        vertical-align: top;\n",
       "    }\n",
       "\n",
       "    .dataframe thead th {\n",
       "        text-align: right;\n",
       "    }\n",
       "</style>\n",
       "<table border=\"1\" class=\"dataframe\">\n",
       "  <thead>\n",
       "    <tr style=\"text-align: right;\">\n",
       "      <th></th>\n",
       "      <th>artist</th>\n",
       "      <th>song</th>\n",
       "      <th>duration_ms</th>\n",
       "      <th>explicit</th>\n",
       "      <th>year</th>\n",
       "      <th>popularity</th>\n",
       "      <th>danceability</th>\n",
       "      <th>energy</th>\n",
       "      <th>key</th>\n",
       "      <th>loudness</th>\n",
       "      <th>mode</th>\n",
       "      <th>speechiness</th>\n",
       "      <th>acousticness</th>\n",
       "      <th>instrumentalness</th>\n",
       "      <th>liveness</th>\n",
       "      <th>valence</th>\n",
       "      <th>tempo</th>\n",
       "      <th>genre</th>\n",
       "    </tr>\n",
       "  </thead>\n",
       "  <tbody>\n",
       "    <tr>\n",
       "      <th>611</th>\n",
       "      <td>Madonna</td>\n",
       "      <td>Sorry</td>\n",
       "      <td>281880</td>\n",
       "      <td>False</td>\n",
       "      <td>2005</td>\n",
       "      <td>61</td>\n",
       "      <td>0.589</td>\n",
       "      <td>0.877</td>\n",
       "      <td>0</td>\n",
       "      <td>-6.229</td>\n",
       "      <td>0</td>\n",
       "      <td>0.0460</td>\n",
       "      <td>0.00121</td>\n",
       "      <td>0.013000</td>\n",
       "      <td>0.169</td>\n",
       "      <td>0.443</td>\n",
       "      <td>132.971</td>\n",
       "      <td>pop</td>\n",
       "    </tr>\n",
       "    <tr>\n",
       "      <th>1593</th>\n",
       "      <td>Justin Bieber</td>\n",
       "      <td>Sorry</td>\n",
       "      <td>200786</td>\n",
       "      <td>False</td>\n",
       "      <td>2015</td>\n",
       "      <td>80</td>\n",
       "      <td>0.654</td>\n",
       "      <td>0.760</td>\n",
       "      <td>0</td>\n",
       "      <td>-3.669</td>\n",
       "      <td>0</td>\n",
       "      <td>0.0450</td>\n",
       "      <td>0.07970</td>\n",
       "      <td>0.000000</td>\n",
       "      <td>0.299</td>\n",
       "      <td>0.410</td>\n",
       "      <td>99.945</td>\n",
       "      <td>pop</td>\n",
       "    </tr>\n",
       "    <tr>\n",
       "      <th>1611</th>\n",
       "      <td>Justin Bieber</td>\n",
       "      <td>Sorry</td>\n",
       "      <td>200786</td>\n",
       "      <td>False</td>\n",
       "      <td>2015</td>\n",
       "      <td>80</td>\n",
       "      <td>0.654</td>\n",
       "      <td>0.760</td>\n",
       "      <td>0</td>\n",
       "      <td>-3.669</td>\n",
       "      <td>0</td>\n",
       "      <td>0.0450</td>\n",
       "      <td>0.07970</td>\n",
       "      <td>0.000000</td>\n",
       "      <td>0.299</td>\n",
       "      <td>0.410</td>\n",
       "      <td>99.945</td>\n",
       "      <td>pop</td>\n",
       "    </tr>\n",
       "    <tr>\n",
       "      <th>1695</th>\n",
       "      <td>BeyoncÃ©</td>\n",
       "      <td>Sorry</td>\n",
       "      <td>232560</td>\n",
       "      <td>True</td>\n",
       "      <td>2016</td>\n",
       "      <td>67</td>\n",
       "      <td>0.775</td>\n",
       "      <td>0.598</td>\n",
       "      <td>2</td>\n",
       "      <td>-7.274</td>\n",
       "      <td>1</td>\n",
       "      <td>0.0535</td>\n",
       "      <td>0.00175</td>\n",
       "      <td>0.000004</td>\n",
       "      <td>0.253</td>\n",
       "      <td>0.356</td>\n",
       "      <td>129.988</td>\n",
       "      <td>pop, R&amp;B</td>\n",
       "    </tr>\n",
       "    <tr>\n",
       "      <th>1993</th>\n",
       "      <td>Joel Corry</td>\n",
       "      <td>Sorry</td>\n",
       "      <td>188640</td>\n",
       "      <td>False</td>\n",
       "      <td>2019</td>\n",
       "      <td>63</td>\n",
       "      <td>0.744</td>\n",
       "      <td>0.790</td>\n",
       "      <td>8</td>\n",
       "      <td>-4.617</td>\n",
       "      <td>0</td>\n",
       "      <td>0.0562</td>\n",
       "      <td>0.05470</td>\n",
       "      <td>0.000802</td>\n",
       "      <td>0.320</td>\n",
       "      <td>0.847</td>\n",
       "      <td>125.002</td>\n",
       "      <td>pop, Dance/Electronic</td>\n",
       "    </tr>\n",
       "  </tbody>\n",
       "</table>\n",
       "</div>"
      ],
      "text/plain": [
       "             artist   song  duration_ms  explicit  year  popularity  \\\n",
       "611         Madonna  Sorry       281880     False  2005          61   \n",
       "1593  Justin Bieber  Sorry       200786     False  2015          80   \n",
       "1611  Justin Bieber  Sorry       200786     False  2015          80   \n",
       "1695       BeyoncÃ©  Sorry       232560      True  2016          67   \n",
       "1993     Joel Corry  Sorry       188640     False  2019          63   \n",
       "\n",
       "      danceability  energy  key  loudness  mode  speechiness  acousticness  \\\n",
       "611          0.589   0.877    0    -6.229     0       0.0460       0.00121   \n",
       "1593         0.654   0.760    0    -3.669     0       0.0450       0.07970   \n",
       "1611         0.654   0.760    0    -3.669     0       0.0450       0.07970   \n",
       "1695         0.775   0.598    2    -7.274     1       0.0535       0.00175   \n",
       "1993         0.744   0.790    8    -4.617     0       0.0562       0.05470   \n",
       "\n",
       "      instrumentalness  liveness  valence    tempo                  genre  \n",
       "611           0.013000     0.169    0.443  132.971                    pop  \n",
       "1593          0.000000     0.299    0.410   99.945                    pop  \n",
       "1611          0.000000     0.299    0.410   99.945                    pop  \n",
       "1695          0.000004     0.253    0.356  129.988               pop, R&B  \n",
       "1993          0.000802     0.320    0.847  125.002  pop, Dance/Electronic  "
      ]
     },
     "execution_count": 44,
     "metadata": {},
     "output_type": "execute_result"
    }
   ],
   "source": [
    "#are songs with the same name unique? No\n",
    "df[df['song'] == 'Sorry']"
   ]
  },
  {
   "cell_type": "code",
   "execution_count": 45,
   "id": "ecef7331",
   "metadata": {},
   "outputs": [
    {
     "data": {
      "text/html": [
       "<div>\n",
       "<style scoped>\n",
       "    .dataframe tbody tr th:only-of-type {\n",
       "        vertical-align: middle;\n",
       "    }\n",
       "\n",
       "    .dataframe tbody tr th {\n",
       "        vertical-align: top;\n",
       "    }\n",
       "\n",
       "    .dataframe thead th {\n",
       "        text-align: right;\n",
       "    }\n",
       "</style>\n",
       "<table border=\"1\" class=\"dataframe\">\n",
       "  <thead>\n",
       "    <tr style=\"text-align: right;\">\n",
       "      <th></th>\n",
       "      <th>artist</th>\n",
       "      <th>song</th>\n",
       "      <th>duration_ms</th>\n",
       "      <th>explicit</th>\n",
       "      <th>year</th>\n",
       "      <th>popularity</th>\n",
       "      <th>danceability</th>\n",
       "      <th>energy</th>\n",
       "      <th>key</th>\n",
       "      <th>loudness</th>\n",
       "      <th>mode</th>\n",
       "      <th>speechiness</th>\n",
       "      <th>acousticness</th>\n",
       "      <th>instrumentalness</th>\n",
       "      <th>liveness</th>\n",
       "      <th>valence</th>\n",
       "      <th>tempo</th>\n",
       "      <th>genre</th>\n",
       "    </tr>\n",
       "  </thead>\n",
       "  <tbody>\n",
       "    <tr>\n",
       "      <th>1455</th>\n",
       "      <td>Ed Sheeran</td>\n",
       "      <td>Don't</td>\n",
       "      <td>219840</td>\n",
       "      <td>False</td>\n",
       "      <td>2014</td>\n",
       "      <td>72</td>\n",
       "      <td>0.806</td>\n",
       "      <td>0.608</td>\n",
       "      <td>1</td>\n",
       "      <td>-7.008</td>\n",
       "      <td>1</td>\n",
       "      <td>0.0659</td>\n",
       "      <td>0.0113</td>\n",
       "      <td>0.0</td>\n",
       "      <td>0.6350</td>\n",
       "      <td>0.849</td>\n",
       "      <td>95.049</td>\n",
       "      <td>pop</td>\n",
       "    </tr>\n",
       "    <tr>\n",
       "      <th>1586</th>\n",
       "      <td>Bryson Tiller</td>\n",
       "      <td>Don't</td>\n",
       "      <td>198293</td>\n",
       "      <td>True</td>\n",
       "      <td>2015</td>\n",
       "      <td>78</td>\n",
       "      <td>0.765</td>\n",
       "      <td>0.356</td>\n",
       "      <td>11</td>\n",
       "      <td>-5.556</td>\n",
       "      <td>0</td>\n",
       "      <td>0.1950</td>\n",
       "      <td>0.2230</td>\n",
       "      <td>0.0</td>\n",
       "      <td>0.0963</td>\n",
       "      <td>0.189</td>\n",
       "      <td>96.991</td>\n",
       "      <td>hip hop, pop, R&amp;B</td>\n",
       "    </tr>\n",
       "    <tr>\n",
       "      <th>1679</th>\n",
       "      <td>Bryson Tiller</td>\n",
       "      <td>Don't</td>\n",
       "      <td>198293</td>\n",
       "      <td>True</td>\n",
       "      <td>2015</td>\n",
       "      <td>78</td>\n",
       "      <td>0.765</td>\n",
       "      <td>0.356</td>\n",
       "      <td>11</td>\n",
       "      <td>-5.556</td>\n",
       "      <td>0</td>\n",
       "      <td>0.1950</td>\n",
       "      <td>0.2230</td>\n",
       "      <td>0.0</td>\n",
       "      <td>0.0963</td>\n",
       "      <td>0.189</td>\n",
       "      <td>96.991</td>\n",
       "      <td>hip hop, pop, R&amp;B</td>\n",
       "    </tr>\n",
       "  </tbody>\n",
       "</table>\n",
       "</div>"
      ],
      "text/plain": [
       "             artist   song  duration_ms  explicit  year  popularity  \\\n",
       "1455     Ed Sheeran  Don't       219840     False  2014          72   \n",
       "1586  Bryson Tiller  Don't       198293      True  2015          78   \n",
       "1679  Bryson Tiller  Don't       198293      True  2015          78   \n",
       "\n",
       "      danceability  energy  key  loudness  mode  speechiness  acousticness  \\\n",
       "1455         0.806   0.608    1    -7.008     1       0.0659        0.0113   \n",
       "1586         0.765   0.356   11    -5.556     0       0.1950        0.2230   \n",
       "1679         0.765   0.356   11    -5.556     0       0.1950        0.2230   \n",
       "\n",
       "      instrumentalness  liveness  valence   tempo              genre  \n",
       "1455               0.0    0.6350    0.849  95.049                pop  \n",
       "1586               0.0    0.0963    0.189  96.991  hip hop, pop, R&B  \n",
       "1679               0.0    0.0963    0.189  96.991  hip hop, pop, R&B  "
      ]
     },
     "execution_count": 45,
     "metadata": {},
     "output_type": "execute_result"
    }
   ],
   "source": [
    "#are songs with the same name unique? No\n",
    "df[df['song'] == \"Don't\"]"
   ]
  },
  {
   "cell_type": "code",
   "execution_count": 46,
   "id": "e887e9cf",
   "metadata": {},
   "outputs": [
    {
     "data": {
      "text/html": [
       "<div>\n",
       "<style scoped>\n",
       "    .dataframe tbody tr th:only-of-type {\n",
       "        vertical-align: middle;\n",
       "    }\n",
       "\n",
       "    .dataframe tbody tr th {\n",
       "        vertical-align: top;\n",
       "    }\n",
       "\n",
       "    .dataframe thead th {\n",
       "        text-align: right;\n",
       "    }\n",
       "</style>\n",
       "<table border=\"1\" class=\"dataframe\">\n",
       "  <thead>\n",
       "    <tr style=\"text-align: right;\">\n",
       "      <th></th>\n",
       "      <th>artist</th>\n",
       "      <th>song</th>\n",
       "      <th>duration_ms</th>\n",
       "      <th>explicit</th>\n",
       "      <th>year</th>\n",
       "      <th>popularity</th>\n",
       "      <th>danceability</th>\n",
       "      <th>energy</th>\n",
       "      <th>key</th>\n",
       "      <th>loudness</th>\n",
       "      <th>mode</th>\n",
       "      <th>speechiness</th>\n",
       "      <th>acousticness</th>\n",
       "      <th>instrumentalness</th>\n",
       "      <th>liveness</th>\n",
       "      <th>valence</th>\n",
       "      <th>tempo</th>\n",
       "      <th>genre</th>\n",
       "    </tr>\n",
       "  </thead>\n",
       "  <tbody>\n",
       "    <tr>\n",
       "      <th>832</th>\n",
       "      <td>Ne-Yo</td>\n",
       "      <td>Closer</td>\n",
       "      <td>234360</td>\n",
       "      <td>False</td>\n",
       "      <td>2008</td>\n",
       "      <td>65</td>\n",
       "      <td>0.709</td>\n",
       "      <td>0.745</td>\n",
       "      <td>4</td>\n",
       "      <td>-6.437</td>\n",
       "      <td>0</td>\n",
       "      <td>0.0738</td>\n",
       "      <td>0.0225</td>\n",
       "      <td>0.000052</td>\n",
       "      <td>0.154</td>\n",
       "      <td>0.576</td>\n",
       "      <td>126.027</td>\n",
       "      <td>pop, R&amp;B</td>\n",
       "    </tr>\n",
       "    <tr>\n",
       "      <th>1545</th>\n",
       "      <td>Lemaitre</td>\n",
       "      <td>Closer</td>\n",
       "      <td>270589</td>\n",
       "      <td>False</td>\n",
       "      <td>2017</td>\n",
       "      <td>59</td>\n",
       "      <td>0.583</td>\n",
       "      <td>0.785</td>\n",
       "      <td>2</td>\n",
       "      <td>-3.991</td>\n",
       "      <td>0</td>\n",
       "      <td>0.0337</td>\n",
       "      <td>0.0012</td>\n",
       "      <td>0.012700</td>\n",
       "      <td>0.124</td>\n",
       "      <td>0.355</td>\n",
       "      <td>91.977</td>\n",
       "      <td>pop</td>\n",
       "    </tr>\n",
       "    <tr>\n",
       "      <th>1603</th>\n",
       "      <td>The Chainsmokers</td>\n",
       "      <td>Closer</td>\n",
       "      <td>244960</td>\n",
       "      <td>False</td>\n",
       "      <td>2016</td>\n",
       "      <td>83</td>\n",
       "      <td>0.748</td>\n",
       "      <td>0.524</td>\n",
       "      <td>8</td>\n",
       "      <td>-5.599</td>\n",
       "      <td>1</td>\n",
       "      <td>0.0338</td>\n",
       "      <td>0.4140</td>\n",
       "      <td>0.000000</td>\n",
       "      <td>0.111</td>\n",
       "      <td>0.661</td>\n",
       "      <td>95.010</td>\n",
       "      <td>pop, Dance/Electronic</td>\n",
       "    </tr>\n",
       "  </tbody>\n",
       "</table>\n",
       "</div>"
      ],
      "text/plain": [
       "                artist    song  duration_ms  explicit  year  popularity  \\\n",
       "832              Ne-Yo  Closer       234360     False  2008          65   \n",
       "1545          Lemaitre  Closer       270589     False  2017          59   \n",
       "1603  The Chainsmokers  Closer       244960     False  2016          83   \n",
       "\n",
       "      danceability  energy  key  loudness  mode  speechiness  acousticness  \\\n",
       "832          0.709   0.745    4    -6.437     0       0.0738        0.0225   \n",
       "1545         0.583   0.785    2    -3.991     0       0.0337        0.0012   \n",
       "1603         0.748   0.524    8    -5.599     1       0.0338        0.4140   \n",
       "\n",
       "      instrumentalness  liveness  valence    tempo                  genre  \n",
       "832           0.000052     0.154    0.576  126.027               pop, R&B  \n",
       "1545          0.012700     0.124    0.355   91.977                    pop  \n",
       "1603          0.000000     0.111    0.661   95.010  pop, Dance/Electronic  "
      ]
     },
     "execution_count": 46,
     "metadata": {},
     "output_type": "execute_result"
    }
   ],
   "source": [
    "#are songs with the same name unique? Yes\n",
    "df[df['song'] == \"Closer\"]"
   ]
  },
  {
   "cell_type": "code",
   "execution_count": 47,
   "id": "b51d3511",
   "metadata": {},
   "outputs": [
    {
     "data": {
      "text/plain": [
       "(1941, 18)"
      ]
     },
     "execution_count": 47,
     "metadata": {},
     "output_type": "execute_result"
    }
   ],
   "source": [
    "#remove duplicate rows (remove rows that have same value across all columns)\n",
    "clean_df = df.drop_duplicates()\n",
    "\n",
    "#confirm duplicate rows removed\n",
    "clean_df.shape"
   ]
  },
  {
   "cell_type": "code",
   "execution_count": 48,
   "id": "021fd3f4",
   "metadata": {
    "scrolled": true
   },
   "outputs": [
    {
     "data": {
      "text/plain": [
       "count    1941.000000\n",
       "mean       59.633179\n",
       "std        21.501053\n",
       "min         0.000000\n",
       "25%        56.000000\n",
       "50%        65.000000\n",
       "75%        73.000000\n",
       "max        89.000000\n",
       "Name: popularity, dtype: float64"
      ]
     },
     "execution_count": 48,
     "metadata": {},
     "output_type": "execute_result"
    }
   ],
   "source": [
    "#learning about popularity\n",
    "clean_df.popularity.describe()"
   ]
  },
  {
   "cell_type": "code",
   "execution_count": 49,
   "id": "13f8cda7",
   "metadata": {
    "scrolled": true
   },
   "outputs": [
    {
     "data": {
      "text/plain": [
       "<Axes: xlabel='popularity', ylabel='Count'>"
      ]
     },
     "execution_count": 49,
     "metadata": {},
     "output_type": "execute_result"
    },
    {
     "data": {
      "image/png": "[encoded data removed]",
      "text/plain": [
       "<Figure size 640x480 with 1 Axes>"
      ]
     },
     "metadata": {},
     "output_type": "display_data"
    }
   ],
   "source": [
    "#learning more about popularity data\n",
    "import matplotlib.pyplot as plt\n",
    "import seaborn as sns\n",
    "sns.histplot(clean_df.popularity)"
   ]
  },
  {
   "cell_type": "code",
   "execution_count": 50,
   "id": "b48815fe",
   "metadata": {},
   "outputs": [],
   "source": [
    "#drop popularity\n",
    "clean_df = clean_df.drop(columns = ['popularity'])"
   ]
  },
  {
   "cell_type": "code",
   "execution_count": 51,
   "id": "1db220a0",
   "metadata": {},
   "outputs": [
    {
     "data": {
      "text/html": [
       "<div>\n",
       "<style scoped>\n",
       "    .dataframe tbody tr th:only-of-type {\n",
       "        vertical-align: middle;\n",
       "    }\n",
       "\n",
       "    .dataframe tbody tr th {\n",
       "        vertical-align: top;\n",
       "    }\n",
       "\n",
       "    .dataframe thead th {\n",
       "        text-align: right;\n",
       "    }\n",
       "</style>\n",
       "<table border=\"1\" class=\"dataframe\">\n",
       "  <thead>\n",
       "    <tr style=\"text-align: right;\">\n",
       "      <th></th>\n",
       "      <th>artist</th>\n",
       "      <th>song</th>\n",
       "      <th>duration_ms</th>\n",
       "      <th>explicit</th>\n",
       "      <th>year</th>\n",
       "      <th>danceability</th>\n",
       "      <th>energy</th>\n",
       "      <th>key</th>\n",
       "      <th>loudness</th>\n",
       "      <th>mode</th>\n",
       "      <th>speechiness</th>\n",
       "      <th>acousticness</th>\n",
       "      <th>instrumentalness</th>\n",
       "      <th>liveness</th>\n",
       "      <th>valence</th>\n",
       "      <th>tempo</th>\n",
       "      <th>genre</th>\n",
       "    </tr>\n",
       "  </thead>\n",
       "  <tbody>\n",
       "    <tr>\n",
       "      <th>0</th>\n",
       "      <td>Britney Spears</td>\n",
       "      <td>Oops!...I Did It Again</td>\n",
       "      <td>211160</td>\n",
       "      <td>False</td>\n",
       "      <td>2000</td>\n",
       "      <td>0.751</td>\n",
       "      <td>0.834</td>\n",
       "      <td>1</td>\n",
       "      <td>-5.444</td>\n",
       "      <td>0</td>\n",
       "      <td>0.0437</td>\n",
       "      <td>0.3</td>\n",
       "      <td>0.000018</td>\n",
       "      <td>0.355</td>\n",
       "      <td>0.894</td>\n",
       "      <td>95.053</td>\n",
       "      <td>pop</td>\n",
       "    </tr>\n",
       "  </tbody>\n",
       "</table>\n",
       "</div>"
      ],
      "text/plain": [
       "           artist                    song  duration_ms  explicit  year  \\\n",
       "0  Britney Spears  Oops!...I Did It Again       211160     False  2000   \n",
       "\n",
       "   danceability  energy  key  loudness  mode  speechiness  acousticness  \\\n",
       "0         0.751   0.834    1    -5.444     0       0.0437           0.3   \n",
       "\n",
       "   instrumentalness  liveness  valence   tempo genre  \n",
       "0          0.000018     0.355    0.894  95.053   pop  "
      ]
     },
     "execution_count": 51,
     "metadata": {},
     "output_type": "execute_result"
    }
   ],
   "source": [
    "clean_df.head(1)"
   ]
  },
  {
   "cell_type": "code",
   "execution_count": 52,
   "id": "7a6df592",
   "metadata": {},
   "outputs": [
    {
     "data": {
      "text/plain": [
       "count    1941.000000\n",
       "mean        0.015372\n",
       "std         0.088371\n",
       "min         0.000000\n",
       "25%         0.000000\n",
       "50%         0.000000\n",
       "75%         0.000069\n",
       "max         0.985000\n",
       "Name: instrumentalness, dtype: float64"
      ]
     },
     "execution_count": 52,
     "metadata": {},
     "output_type": "execute_result"
    }
   ],
   "source": [
    "#learn about instrumentalness\n",
    "clean_df.instrumentalness.describe()"
   ]
  },
  {
   "cell_type": "code",
   "execution_count": 53,
   "id": "fa1e92a9",
   "metadata": {},
   "outputs": [],
   "source": [
    "#drop instrumentalness\n",
    "clean_df = clean_df.drop(columns = ['instrumentalness'])"
   ]
  },
  {
   "cell_type": "code",
   "execution_count": 54,
   "id": "c14ad56c",
   "metadata": {
    "scrolled": false
   },
   "outputs": [
    {
     "data": {
      "text/plain": [
       "count    1941.000000\n",
       "mean      120.158442\n",
       "std        26.990475\n",
       "min        60.019000\n",
       "25%        98.986000\n",
       "50%       120.028000\n",
       "75%       134.199000\n",
       "max       210.851000\n",
       "Name: tempo, dtype: float64"
      ]
     },
     "execution_count": 54,
     "metadata": {},
     "output_type": "execute_result"
    }
   ],
   "source": [
    "#learning more about tempo \n",
    "clean_df.tempo.describe()"
   ]
  },
  {
   "cell_type": "code",
   "execution_count": 55,
   "id": "0ccb2651",
   "metadata": {
    "scrolled": true
   },
   "outputs": [
    {
     "data": {
      "text/plain": [
       "<Axes: xlabel='tempo', ylabel='Count'>"
      ]
     },
     "execution_count": 55,
     "metadata": {},
     "output_type": "execute_result"
    },
    {
     "data": {
      "image/png": "[encoded data removed]",
      "text/plain": [
       "<Figure size 640x480 with 1 Axes>"
      ]
     },
     "metadata": {},
     "output_type": "display_data"
    }
   ],
   "source": [
    "#learning more about tempo\n",
    "sns.histplot(clean_df.tempo)"
   ]
  },
  {
   "cell_type": "code",
   "execution_count": 56,
   "id": "96375977",
   "metadata": {},
   "outputs": [],
   "source": [
    "#clean_df.head(2)"
   ]
  },
  {
   "cell_type": "code",
   "execution_count": 57,
   "id": "f4410958",
   "metadata": {},
   "outputs": [],
   "source": [
    "clean_df = clean_df[(clean_df['duration_ms'] < 300000)]"
   ]
  },
  {
   "cell_type": "code",
   "execution_count": 58,
   "id": "dcf52787",
   "metadata": {
    "scrolled": true
   },
   "outputs": [
    {
     "data": {
      "text/plain": [
       "count      1853.000000\n",
       "mean     223699.262817\n",
       "std       31931.628710\n",
       "min      113000.000000\n",
       "25%      202333.000000\n",
       "50%      221560.000000\n",
       "75%      243533.000000\n",
       "max      299960.000000\n",
       "Name: duration_ms, dtype: float64"
      ]
     },
     "execution_count": 58,
     "metadata": {},
     "output_type": "execute_result"
    }
   ],
   "source": [
    "#learn more about duration\n",
    "clean_df.duration_ms.describe()"
   ]
  },
  {
   "cell_type": "code",
   "execution_count": 59,
   "id": "59495940",
   "metadata": {
    "scrolled": false
   },
   "outputs": [
    {
     "data": {
      "text/plain": [
       "<Axes: xlabel='duration_ms', ylabel='Count'>"
      ]
     },
     "execution_count": 59,
     "metadata": {},
     "output_type": "execute_result"
    },
    {
     "data": {
      "image/png": "[encoded data removed]",
      "text/plain": [
       "<Figure size 640x480 with 1 Axes>"
      ]
     },
     "metadata": {},
     "output_type": "display_data"
    }
   ],
   "source": [
    "#learning more about duration\n",
    "import matplotlib.pyplot as plt\n",
    "import seaborn as sns\n",
    "sns.histplot(clean_df.duration_ms)"
   ]
  },
  {
   "cell_type": "code",
   "execution_count": 60,
   "id": "3d3028df",
   "metadata": {
    "scrolled": true
   },
   "outputs": [
    {
     "data": {
      "text/plain": [
       "count    1853.000000\n",
       "mean        0.668294\n",
       "std         0.139532\n",
       "min         0.129000\n",
       "25%         0.582000\n",
       "50%         0.677000\n",
       "75%         0.764000\n",
       "max         0.975000\n",
       "Name: danceability, dtype: float64"
      ]
     },
     "execution_count": 60,
     "metadata": {},
     "output_type": "execute_result"
    }
   ],
   "source": [
    "clean_df.danceability.describe()"
   ]
  },
  {
   "cell_type": "code",
   "execution_count": 61,
   "id": "ff5e4628",
   "metadata": {
    "scrolled": false
   },
   "outputs": [
    {
     "data": {
      "text/plain": [
       "<Axes: xlabel='danceability', ylabel='Count'>"
      ]
     },
     "execution_count": 61,
     "metadata": {},
     "output_type": "execute_result"
    },
    {
     "data": {
      "image/png": "[encoded data removed]",
      "text/plain": [
       "<Figure size 640x480 with 1 Axes>"
      ]
     },
     "metadata": {},
     "output_type": "display_data"
    }
   ],
   "source": [
    "#learning more about danceability\n",
    "sns.histplot(clean_df.danceability)"
   ]
  },
  {
   "cell_type": "code",
   "execution_count": 62,
   "id": "3f6ee88d",
   "metadata": {},
   "outputs": [],
   "source": [
    "clean_df = clean_df[(clean_df['danceability'] > 0.67)]"
   ]
  },
  {
   "cell_type": "code",
   "execution_count": 63,
   "id": "75ff5026",
   "metadata": {},
   "outputs": [
    {
     "data": {
      "text/plain": [
       "count    968.000000\n",
       "mean       0.774029\n",
       "std        0.073590\n",
       "min        0.671000\n",
       "25%        0.713000\n",
       "50%        0.760000\n",
       "75%        0.826250\n",
       "max        0.975000\n",
       "Name: danceability, dtype: float64"
      ]
     },
     "execution_count": 63,
     "metadata": {},
     "output_type": "execute_result"
    }
   ],
   "source": [
    "clean_df.danceability.describe()"
   ]
  },
  {
   "cell_type": "code",
   "execution_count": 64,
   "id": "b729b5a3",
   "metadata": {},
   "outputs": [],
   "source": [
    "#how many unique genres\n",
    "#clean_df['genre'].value_counts()"
   ]
  },
  {
   "cell_type": "code",
   "execution_count": 65,
   "id": "99350043",
   "metadata": {},
   "outputs": [
    {
     "data": {
      "text/plain": [
       "0        True\n",
       "5       False\n",
       "6       False\n",
       "7       False\n",
       "8       False\n",
       "        ...  \n",
       "1993    False\n",
       "1995     True\n",
       "1997    False\n",
       "1998     True\n",
       "1999    False\n",
       "Name: genre, Length: 968, dtype: bool"
      ]
     },
     "execution_count": 65,
     "metadata": {},
     "output_type": "execute_result"
    }
   ],
   "source": [
    "clean_df.genre =='pop'"
   ]
  },
  {
   "cell_type": "code",
   "execution_count": 66,
   "id": "071b92ba",
   "metadata": {},
   "outputs": [
    {
     "data": {
      "text/html": [
       "<div>\n",
       "<style scoped>\n",
       "    .dataframe tbody tr th:only-of-type {\n",
       "        vertical-align: middle;\n",
       "    }\n",
       "\n",
       "    .dataframe tbody tr th {\n",
       "        vertical-align: top;\n",
       "    }\n",
       "\n",
       "    .dataframe thead th {\n",
       "        text-align: right;\n",
       "    }\n",
       "</style>\n",
       "<table border=\"1\" class=\"dataframe\">\n",
       "  <thead>\n",
       "    <tr style=\"text-align: right;\">\n",
       "      <th></th>\n",
       "      <th>artist</th>\n",
       "      <th>song</th>\n",
       "      <th>duration_ms</th>\n",
       "      <th>explicit</th>\n",
       "      <th>year</th>\n",
       "      <th>danceability</th>\n",
       "      <th>energy</th>\n",
       "      <th>key</th>\n",
       "      <th>loudness</th>\n",
       "      <th>mode</th>\n",
       "      <th>speechiness</th>\n",
       "      <th>acousticness</th>\n",
       "      <th>liveness</th>\n",
       "      <th>valence</th>\n",
       "      <th>tempo</th>\n",
       "      <th>genre</th>\n",
       "    </tr>\n",
       "  </thead>\n",
       "  <tbody>\n",
       "    <tr>\n",
       "      <th>0</th>\n",
       "      <td>Britney Spears</td>\n",
       "      <td>Oops!...I Did It Again</td>\n",
       "      <td>211160</td>\n",
       "      <td>False</td>\n",
       "      <td>2000</td>\n",
       "      <td>0.751</td>\n",
       "      <td>0.834</td>\n",
       "      <td>1</td>\n",
       "      <td>-5.444</td>\n",
       "      <td>0</td>\n",
       "      <td>0.0437</td>\n",
       "      <td>0.3000</td>\n",
       "      <td>0.355</td>\n",
       "      <td>0.894</td>\n",
       "      <td>95.053</td>\n",
       "      <td>pop</td>\n",
       "    </tr>\n",
       "    <tr>\n",
       "      <th>5</th>\n",
       "      <td>Sisqo</td>\n",
       "      <td>Thong Song</td>\n",
       "      <td>253733</td>\n",
       "      <td>True</td>\n",
       "      <td>1999</td>\n",
       "      <td>0.706</td>\n",
       "      <td>0.888</td>\n",
       "      <td>2</td>\n",
       "      <td>-6.959</td>\n",
       "      <td>1</td>\n",
       "      <td>0.0654</td>\n",
       "      <td>0.1190</td>\n",
       "      <td>0.070</td>\n",
       "      <td>0.714</td>\n",
       "      <td>121.549</td>\n",
       "      <td>hip hop, pop, R&amp;B</td>\n",
       "    </tr>\n",
       "    <tr>\n",
       "      <th>7</th>\n",
       "      <td>Robbie Williams</td>\n",
       "      <td>Rock DJ</td>\n",
       "      <td>258560</td>\n",
       "      <td>False</td>\n",
       "      <td>2000</td>\n",
       "      <td>0.708</td>\n",
       "      <td>0.772</td>\n",
       "      <td>7</td>\n",
       "      <td>-4.264</td>\n",
       "      <td>1</td>\n",
       "      <td>0.0322</td>\n",
       "      <td>0.0267</td>\n",
       "      <td>0.467</td>\n",
       "      <td>0.861</td>\n",
       "      <td>103.035</td>\n",
       "      <td>pop, rock</td>\n",
       "    </tr>\n",
       "  </tbody>\n",
       "</table>\n",
       "</div>"
      ],
      "text/plain": [
       "            artist                    song  duration_ms  explicit  year  \\\n",
       "0   Britney Spears  Oops!...I Did It Again       211160     False  2000   \n",
       "5            Sisqo              Thong Song       253733      True  1999   \n",
       "7  Robbie Williams                 Rock DJ       258560     False  2000   \n",
       "\n",
       "   danceability  energy  key  loudness  mode  speechiness  acousticness  \\\n",
       "0         0.751   0.834    1    -5.444     0       0.0437        0.3000   \n",
       "5         0.706   0.888    2    -6.959     1       0.0654        0.1190   \n",
       "7         0.708   0.772    7    -4.264     1       0.0322        0.0267   \n",
       "\n",
       "   liveness  valence    tempo              genre  \n",
       "0     0.355    0.894   95.053                pop  \n",
       "5     0.070    0.714  121.549  hip hop, pop, R&B  \n",
       "7     0.467    0.861  103.035          pop, rock  "
      ]
     },
     "execution_count": 66,
     "metadata": {},
     "output_type": "execute_result"
    }
   ],
   "source": [
    "#which songs are classified as 'pop' (the song can also be classified as another genre(s))\n",
    "piper_df = clean_df[clean_df['genre'].str.contains('pop')]\n",
    "piper_df.head(3)"
   ]
  },
  {
   "cell_type": "code",
   "execution_count": 67,
   "id": "1fde502b",
   "metadata": {},
   "outputs": [
    {
     "data": {
      "text/plain": [
       "(814, 16)"
      ]
     },
     "execution_count": 67,
     "metadata": {},
     "output_type": "execute_result"
    }
   ],
   "source": [
    "piper_df.shape"
   ]
  },
  {
   "cell_type": "code",
   "execution_count": 68,
   "id": "32c7eabf",
   "metadata": {},
   "outputs": [
    {
     "data": {
      "text/plain": [
       "<Axes: xlabel='tempo', ylabel='Count'>"
      ]
     },
     "execution_count": 68,
     "metadata": {},
     "output_type": "execute_result"
    },
    {
     "data": {
      "image/png": "[encoded data removed]",
      "text/plain": [
       "<Figure size 640x480 with 1 Axes>"
      ]
     },
     "metadata": {},
     "output_type": "display_data"
    }
   ],
   "source": [
    "sns.histplot(piper_df.tempo)"
   ]
  },
  {
   "cell_type": "code",
   "execution_count": 69,
   "id": "785616fe",
   "metadata": {},
   "outputs": [
    {
     "data": {
      "text/html": [
       "<div>\n",
       "<style scoped>\n",
       "    .dataframe tbody tr th:only-of-type {\n",
       "        vertical-align: middle;\n",
       "    }\n",
       "\n",
       "    .dataframe tbody tr th {\n",
       "        vertical-align: top;\n",
       "    }\n",
       "\n",
       "    .dataframe thead th {\n",
       "        text-align: right;\n",
       "    }\n",
       "</style>\n",
       "<table border=\"1\" class=\"dataframe\">\n",
       "  <thead>\n",
       "    <tr style=\"text-align: right;\">\n",
       "      <th></th>\n",
       "      <th>artist</th>\n",
       "      <th>song</th>\n",
       "      <th>duration_ms</th>\n",
       "      <th>explicit</th>\n",
       "      <th>year</th>\n",
       "      <th>danceability</th>\n",
       "      <th>energy</th>\n",
       "      <th>key</th>\n",
       "      <th>loudness</th>\n",
       "      <th>mode</th>\n",
       "      <th>speechiness</th>\n",
       "      <th>acousticness</th>\n",
       "      <th>liveness</th>\n",
       "      <th>valence</th>\n",
       "      <th>tempo</th>\n",
       "      <th>genre</th>\n",
       "    </tr>\n",
       "  </thead>\n",
       "  <tbody>\n",
       "    <tr>\n",
       "      <th>5</th>\n",
       "      <td>Sisqo</td>\n",
       "      <td>Thong Song</td>\n",
       "      <td>253733</td>\n",
       "      <td>True</td>\n",
       "      <td>1999</td>\n",
       "      <td>0.706</td>\n",
       "      <td>0.888</td>\n",
       "      <td>2</td>\n",
       "      <td>-6.959</td>\n",
       "      <td>1</td>\n",
       "      <td>0.0654</td>\n",
       "      <td>0.1190</td>\n",
       "      <td>0.0700</td>\n",
       "      <td>0.714</td>\n",
       "      <td>121.549</td>\n",
       "      <td>hip hop, pop, R&amp;B</td>\n",
       "    </tr>\n",
       "    <tr>\n",
       "      <th>6</th>\n",
       "      <td>Eminem</td>\n",
       "      <td>The Real Slim Shady</td>\n",
       "      <td>284200</td>\n",
       "      <td>True</td>\n",
       "      <td>2000</td>\n",
       "      <td>0.949</td>\n",
       "      <td>0.661</td>\n",
       "      <td>5</td>\n",
       "      <td>-4.244</td>\n",
       "      <td>0</td>\n",
       "      <td>0.0572</td>\n",
       "      <td>0.0302</td>\n",
       "      <td>0.0454</td>\n",
       "      <td>0.760</td>\n",
       "      <td>104.504</td>\n",
       "      <td>hip hop</td>\n",
       "    </tr>\n",
       "    <tr>\n",
       "      <th>15</th>\n",
       "      <td>Aaliyah</td>\n",
       "      <td>Try Again</td>\n",
       "      <td>284000</td>\n",
       "      <td>False</td>\n",
       "      <td>2002</td>\n",
       "      <td>0.797</td>\n",
       "      <td>0.622</td>\n",
       "      <td>6</td>\n",
       "      <td>-5.642</td>\n",
       "      <td>0</td>\n",
       "      <td>0.2900</td>\n",
       "      <td>0.0807</td>\n",
       "      <td>0.0841</td>\n",
       "      <td>0.731</td>\n",
       "      <td>93.020</td>\n",
       "      <td>hip hop, pop, R&amp;B</td>\n",
       "    </tr>\n",
       "  </tbody>\n",
       "</table>\n",
       "</div>"
      ],
      "text/plain": [
       "     artist                 song  duration_ms  explicit  year  danceability  \\\n",
       "5     Sisqo           Thong Song       253733      True  1999         0.706   \n",
       "6    Eminem  The Real Slim Shady       284200      True  2000         0.949   \n",
       "15  Aaliyah            Try Again       284000     False  2002         0.797   \n",
       "\n",
       "    energy  key  loudness  mode  speechiness  acousticness  liveness  valence  \\\n",
       "5    0.888    2    -6.959     1       0.0654        0.1190    0.0700    0.714   \n",
       "6    0.661    5    -4.244     0       0.0572        0.0302    0.0454    0.760   \n",
       "15   0.622    6    -5.642     0       0.2900        0.0807    0.0841    0.731   \n",
       "\n",
       "      tempo              genre  \n",
       "5   121.549  hip hop, pop, R&B  \n",
       "6   104.504            hip hop  \n",
       "15   93.020  hip hop, pop, R&B  "
      ]
     },
     "execution_count": 69,
     "metadata": {},
     "output_type": "execute_result"
    }
   ],
   "source": [
    "#which songs are classified as 'hip hop' (the songs can also be classified as other genre(s))\n",
    "teddy_df = clean_df[clean_df['genre'].str.contains('hip hop')]\n",
    "teddy_df.head(3)"
   ]
  },
  {
   "cell_type": "code",
   "execution_count": 134,
   "id": "a0804d80",
   "metadata": {},
   "outputs": [
    {
     "data": {
      "text/plain": [
       "(471, 16)"
      ]
     },
     "execution_count": 134,
     "metadata": {},
     "output_type": "execute_result"
    }
   ],
   "source": [
    "teddy_df.shape"
   ]
  },
  {
   "cell_type": "code",
   "execution_count": 135,
   "id": "438bd5d8",
   "metadata": {},
   "outputs": [],
   "source": [
    "teddy_WU = teddy_df.loc[(teddy_df.tempo >= 100) & (teddy_df.tempo <= 140)]"
   ]
  },
  {
   "cell_type": "code",
   "execution_count": 136,
   "id": "5aeb62e7",
   "metadata": {},
   "outputs": [
    {
     "data": {
      "text/plain": [
       "(239, 16)"
      ]
     },
     "execution_count": 136,
     "metadata": {},
     "output_type": "execute_result"
    }
   ],
   "source": [
    "teddy_WU.shape"
   ]
  },
  {
   "cell_type": "code",
   "execution_count": 137,
   "id": "461c14a4",
   "metadata": {},
   "outputs": [],
   "source": [
    "teddy_Aer = teddy_df.loc[(teddy_df.tempo >= 130) & (teddy_df.tempo <= 170)]"
   ]
  },
  {
   "cell_type": "code",
   "execution_count": 138,
   "id": "b57d1308",
   "metadata": {},
   "outputs": [
    {
     "data": {
      "text/plain": [
       "(110, 16)"
      ]
     },
     "execution_count": 138,
     "metadata": {},
     "output_type": "execute_result"
    }
   ],
   "source": [
    "teddy_Aer.shape"
   ]
  },
  {
   "cell_type": "code",
   "execution_count": 139,
   "id": "2802c611",
   "metadata": {},
   "outputs": [],
   "source": [
    "teddy_St = teddy_df.loc[(teddy_df.tempo >= 130) & (teddy_df.tempo <= 150)]"
   ]
  },
  {
   "cell_type": "code",
   "execution_count": 140,
   "id": "3416a199",
   "metadata": {},
   "outputs": [
    {
     "data": {
      "text/plain": [
       "(81, 16)"
      ]
     },
     "execution_count": 140,
     "metadata": {},
     "output_type": "execute_result"
    }
   ],
   "source": [
    "teddy_St.shape"
   ]
  },
  {
   "cell_type": "code",
   "execution_count": 141,
   "id": "8d30af3b",
   "metadata": {},
   "outputs": [],
   "source": [
    "teddy_CD = teddy_df.loc[(teddy_df.tempo >= 60) & (teddy_df.tempo <= 90)]"
   ]
  },
  {
   "cell_type": "code",
   "execution_count": 142,
   "id": "dd3a1fcb",
   "metadata": {},
   "outputs": [
    {
     "data": {
      "text/plain": [
       "(54, 16)"
      ]
     },
     "execution_count": 142,
     "metadata": {},
     "output_type": "execute_result"
    }
   ],
   "source": [
    "teddy_CD.shape"
   ]
  },
  {
   "cell_type": "code",
   "execution_count": 143,
   "id": "b93e5777",
   "metadata": {},
   "outputs": [
    {
     "data": {
      "text/plain": [
       "<Axes: xlabel='tempo', ylabel='Count'>"
      ]
     },
     "execution_count": 143,
     "metadata": {},
     "output_type": "execute_result"
    },
    {
     "data": {
      "image/png": "[encoded data removed]",
      "text/plain": [
       "<Figure size 640x480 with 1 Axes>"
      ]
     },
     "metadata": {},
     "output_type": "display_data"
    }
   ],
   "source": [
    "sns.histplot(piper_df.tempo)"
   ]
  },
  {
   "cell_type": "code",
   "execution_count": 70,
   "id": "20044ee1",
   "metadata": {},
   "outputs": [],
   "source": [
    "import matplotlib.pyplot as plt\n",
    "import seaborn as sns\n",
    "import matplotlib.gridspec as gridspec\n",
    "\n",
    "import plotly.offline as pyo\n",
    "from plotly.graph_objs import *\n",
    "import plotly.graph_objs as go"
   ]
  },
  {
   "cell_type": "code",
   "execution_count": 71,
   "id": "3f4b9a94",
   "metadata": {},
   "outputs": [],
   "source": [
    "#songs with pop genre and tempo between 100 and 140 (returns ONLY pop genre)\n",
    "#clean_df.loc[(clean_df.genre=='pop') & (clean_df.tempo >= 100) & (clean_df.tempo <= 140)]"
   ]
  },
  {
   "cell_type": "code",
   "execution_count": 72,
   "id": "a87b6523",
   "metadata": {},
   "outputs": [],
   "source": [
    "Piper_WU = piper_df.loc[(piper_df.tempo >= 100) & (piper_df.tempo <= 140)]"
   ]
  },
  {
   "cell_type": "code",
   "execution_count": 73,
   "id": "ee4f423b",
   "metadata": {},
   "outputs": [
    {
     "data": {
      "text/html": [
       "<div>\n",
       "<style scoped>\n",
       "    .dataframe tbody tr th:only-of-type {\n",
       "        vertical-align: middle;\n",
       "    }\n",
       "\n",
       "    .dataframe tbody tr th {\n",
       "        vertical-align: top;\n",
       "    }\n",
       "\n",
       "    .dataframe thead th {\n",
       "        text-align: right;\n",
       "    }\n",
       "</style>\n",
       "<table border=\"1\" class=\"dataframe\">\n",
       "  <thead>\n",
       "    <tr style=\"text-align: right;\">\n",
       "      <th></th>\n",
       "      <th>artist</th>\n",
       "      <th>song</th>\n",
       "      <th>duration_ms</th>\n",
       "      <th>explicit</th>\n",
       "      <th>year</th>\n",
       "      <th>danceability</th>\n",
       "      <th>energy</th>\n",
       "      <th>key</th>\n",
       "      <th>loudness</th>\n",
       "      <th>mode</th>\n",
       "      <th>speechiness</th>\n",
       "      <th>acousticness</th>\n",
       "      <th>liveness</th>\n",
       "      <th>valence</th>\n",
       "      <th>tempo</th>\n",
       "      <th>genre</th>\n",
       "    </tr>\n",
       "  </thead>\n",
       "  <tbody>\n",
       "    <tr>\n",
       "      <th>5</th>\n",
       "      <td>Sisqo</td>\n",
       "      <td>Thong Song</td>\n",
       "      <td>253733</td>\n",
       "      <td>True</td>\n",
       "      <td>1999</td>\n",
       "      <td>0.706</td>\n",
       "      <td>0.888</td>\n",
       "      <td>2</td>\n",
       "      <td>-6.959</td>\n",
       "      <td>1</td>\n",
       "      <td>0.0654</td>\n",
       "      <td>0.1190</td>\n",
       "      <td>0.0700</td>\n",
       "      <td>0.714</td>\n",
       "      <td>121.549</td>\n",
       "      <td>hip hop, pop, R&amp;B</td>\n",
       "    </tr>\n",
       "    <tr>\n",
       "      <th>7</th>\n",
       "      <td>Robbie Williams</td>\n",
       "      <td>Rock DJ</td>\n",
       "      <td>258560</td>\n",
       "      <td>False</td>\n",
       "      <td>2000</td>\n",
       "      <td>0.708</td>\n",
       "      <td>0.772</td>\n",
       "      <td>7</td>\n",
       "      <td>-4.264</td>\n",
       "      <td>1</td>\n",
       "      <td>0.0322</td>\n",
       "      <td>0.0267</td>\n",
       "      <td>0.4670</td>\n",
       "      <td>0.861</td>\n",
       "      <td>103.035</td>\n",
       "      <td>pop, rock</td>\n",
       "    </tr>\n",
       "    <tr>\n",
       "      <th>8</th>\n",
       "      <td>Destiny's Child</td>\n",
       "      <td>Say My Name</td>\n",
       "      <td>271333</td>\n",
       "      <td>False</td>\n",
       "      <td>1999</td>\n",
       "      <td>0.713</td>\n",
       "      <td>0.678</td>\n",
       "      <td>5</td>\n",
       "      <td>-3.525</td>\n",
       "      <td>0</td>\n",
       "      <td>0.1020</td>\n",
       "      <td>0.2730</td>\n",
       "      <td>0.1490</td>\n",
       "      <td>0.734</td>\n",
       "      <td>138.009</td>\n",
       "      <td>pop, R&amp;B</td>\n",
       "    </tr>\n",
       "    <tr>\n",
       "      <th>11</th>\n",
       "      <td>Eiffel 65</td>\n",
       "      <td>Move Your Body - Gabry Ponte Original Radio Edit</td>\n",
       "      <td>268863</td>\n",
       "      <td>False</td>\n",
       "      <td>1999</td>\n",
       "      <td>0.745</td>\n",
       "      <td>0.958</td>\n",
       "      <td>7</td>\n",
       "      <td>-9.664</td>\n",
       "      <td>1</td>\n",
       "      <td>0.0287</td>\n",
       "      <td>0.0813</td>\n",
       "      <td>0.5330</td>\n",
       "      <td>0.960</td>\n",
       "      <td>129.962</td>\n",
       "      <td>pop</td>\n",
       "    </tr>\n",
       "    <tr>\n",
       "      <th>16</th>\n",
       "      <td>Anastacia</td>\n",
       "      <td>I'm Outta Love - Radio Edit</td>\n",
       "      <td>245400</td>\n",
       "      <td>False</td>\n",
       "      <td>1999</td>\n",
       "      <td>0.761</td>\n",
       "      <td>0.716</td>\n",
       "      <td>10</td>\n",
       "      <td>-5.800</td>\n",
       "      <td>0</td>\n",
       "      <td>0.0560</td>\n",
       "      <td>0.3960</td>\n",
       "      <td>0.0771</td>\n",
       "      <td>0.649</td>\n",
       "      <td>119.410</td>\n",
       "      <td>pop</td>\n",
       "    </tr>\n",
       "  </tbody>\n",
       "</table>\n",
       "</div>"
      ],
      "text/plain": [
       "             artist                                              song  \\\n",
       "5             Sisqo                                        Thong Song   \n",
       "7   Robbie Williams                                           Rock DJ   \n",
       "8   Destiny's Child                                       Say My Name   \n",
       "11        Eiffel 65  Move Your Body - Gabry Ponte Original Radio Edit   \n",
       "16        Anastacia                       I'm Outta Love - Radio Edit   \n",
       "\n",
       "    duration_ms  explicit  year  danceability  energy  key  loudness  mode  \\\n",
       "5        253733      True  1999         0.706   0.888    2    -6.959     1   \n",
       "7        258560     False  2000         0.708   0.772    7    -4.264     1   \n",
       "8        271333     False  1999         0.713   0.678    5    -3.525     0   \n",
       "11       268863     False  1999         0.745   0.958    7    -9.664     1   \n",
       "16       245400     False  1999         0.761   0.716   10    -5.800     0   \n",
       "\n",
       "    speechiness  acousticness  liveness  valence    tempo              genre  \n",
       "5        0.0654        0.1190    0.0700    0.714  121.549  hip hop, pop, R&B  \n",
       "7        0.0322        0.0267    0.4670    0.861  103.035          pop, rock  \n",
       "8        0.1020        0.2730    0.1490    0.734  138.009           pop, R&B  \n",
       "11       0.0287        0.0813    0.5330    0.960  129.962                pop  \n",
       "16       0.0560        0.3960    0.0771    0.649  119.410                pop  "
      ]
     },
     "execution_count": 73,
     "metadata": {},
     "output_type": "execute_result"
    }
   ],
   "source": [
    "Piper_WU.head(5)"
   ]
  },
  {
   "cell_type": "code",
   "execution_count": 74,
   "id": "be71efd6",
   "metadata": {},
   "outputs": [
    {
     "data": {
      "text/plain": [
       "(512, 16)"
      ]
     },
     "execution_count": 74,
     "metadata": {},
     "output_type": "execute_result"
    }
   ],
   "source": [
    "Piper_WU.shape"
   ]
  },
  {
   "cell_type": "code",
   "execution_count": 75,
   "id": "a8b25152",
   "metadata": {},
   "outputs": [],
   "source": [
    "Piper_Aer = piper_df.loc[(piper_df.tempo >= 130) & (piper_df.tempo <= 170)]"
   ]
  },
  {
   "cell_type": "code",
   "execution_count": 76,
   "id": "edf5cdec",
   "metadata": {},
   "outputs": [
    {
     "data": {
      "text/html": [
       "<div>\n",
       "<style scoped>\n",
       "    .dataframe tbody tr th:only-of-type {\n",
       "        vertical-align: middle;\n",
       "    }\n",
       "\n",
       "    .dataframe tbody tr th {\n",
       "        vertical-align: top;\n",
       "    }\n",
       "\n",
       "    .dataframe thead th {\n",
       "        text-align: right;\n",
       "    }\n",
       "</style>\n",
       "<table border=\"1\" class=\"dataframe\">\n",
       "  <thead>\n",
       "    <tr style=\"text-align: right;\">\n",
       "      <th></th>\n",
       "      <th>artist</th>\n",
       "      <th>song</th>\n",
       "      <th>duration_ms</th>\n",
       "      <th>explicit</th>\n",
       "      <th>year</th>\n",
       "      <th>danceability</th>\n",
       "      <th>energy</th>\n",
       "      <th>key</th>\n",
       "      <th>loudness</th>\n",
       "      <th>mode</th>\n",
       "      <th>speechiness</th>\n",
       "      <th>acousticness</th>\n",
       "      <th>liveness</th>\n",
       "      <th>valence</th>\n",
       "      <th>tempo</th>\n",
       "      <th>genre</th>\n",
       "    </tr>\n",
       "  </thead>\n",
       "  <tbody>\n",
       "    <tr>\n",
       "      <th>8</th>\n",
       "      <td>Destiny's Child</td>\n",
       "      <td>Say My Name</td>\n",
       "      <td>271333</td>\n",
       "      <td>False</td>\n",
       "      <td>1999</td>\n",
       "      <td>0.713</td>\n",
       "      <td>0.678</td>\n",
       "      <td>5</td>\n",
       "      <td>-3.525</td>\n",
       "      <td>0</td>\n",
       "      <td>0.1020</td>\n",
       "      <td>0.27300</td>\n",
       "      <td>0.1490</td>\n",
       "      <td>0.734</td>\n",
       "      <td>138.009</td>\n",
       "      <td>pop, R&amp;B</td>\n",
       "    </tr>\n",
       "    <tr>\n",
       "      <th>14</th>\n",
       "      <td>Melanie C</td>\n",
       "      <td>Never Be The Same Again</td>\n",
       "      <td>294200</td>\n",
       "      <td>False</td>\n",
       "      <td>1999</td>\n",
       "      <td>0.689</td>\n",
       "      <td>0.685</td>\n",
       "      <td>3</td>\n",
       "      <td>-5.153</td>\n",
       "      <td>1</td>\n",
       "      <td>0.0478</td>\n",
       "      <td>0.09210</td>\n",
       "      <td>0.1190</td>\n",
       "      <td>0.398</td>\n",
       "      <td>160.067</td>\n",
       "      <td>pop, Dance/Electronic</td>\n",
       "    </tr>\n",
       "    <tr>\n",
       "      <th>17</th>\n",
       "      <td>Alice Deejay</td>\n",
       "      <td>Better Off Alone</td>\n",
       "      <td>214883</td>\n",
       "      <td>False</td>\n",
       "      <td>2000</td>\n",
       "      <td>0.671</td>\n",
       "      <td>0.880</td>\n",
       "      <td>8</td>\n",
       "      <td>-6.149</td>\n",
       "      <td>0</td>\n",
       "      <td>0.0552</td>\n",
       "      <td>0.00181</td>\n",
       "      <td>0.2850</td>\n",
       "      <td>0.782</td>\n",
       "      <td>136.953</td>\n",
       "      <td>pop</td>\n",
       "    </tr>\n",
       "    <tr>\n",
       "      <th>63</th>\n",
       "      <td>Craig David</td>\n",
       "      <td>Fill Me In</td>\n",
       "      <td>257200</td>\n",
       "      <td>False</td>\n",
       "      <td>2000</td>\n",
       "      <td>0.682</td>\n",
       "      <td>0.744</td>\n",
       "      <td>8</td>\n",
       "      <td>-6.981</td>\n",
       "      <td>1</td>\n",
       "      <td>0.0365</td>\n",
       "      <td>0.37600</td>\n",
       "      <td>0.0600</td>\n",
       "      <td>0.827</td>\n",
       "      <td>132.493</td>\n",
       "      <td>hip hop, pop, R&amp;B</td>\n",
       "    </tr>\n",
       "    <tr>\n",
       "      <th>70</th>\n",
       "      <td>Kandi</td>\n",
       "      <td>Don't Think I'm Not</td>\n",
       "      <td>243533</td>\n",
       "      <td>False</td>\n",
       "      <td>2000</td>\n",
       "      <td>0.859</td>\n",
       "      <td>0.622</td>\n",
       "      <td>11</td>\n",
       "      <td>-8.196</td>\n",
       "      <td>1</td>\n",
       "      <td>0.0445</td>\n",
       "      <td>0.06610</td>\n",
       "      <td>0.0394</td>\n",
       "      <td>0.433</td>\n",
       "      <td>134.007</td>\n",
       "      <td>pop, R&amp;B</td>\n",
       "    </tr>\n",
       "  </tbody>\n",
       "</table>\n",
       "</div>"
      ],
      "text/plain": [
       "             artist                     song  duration_ms  explicit  year  \\\n",
       "8   Destiny's Child              Say My Name       271333     False  1999   \n",
       "14        Melanie C  Never Be The Same Again       294200     False  1999   \n",
       "17     Alice Deejay         Better Off Alone       214883     False  2000   \n",
       "63      Craig David               Fill Me In       257200     False  2000   \n",
       "70            Kandi      Don't Think I'm Not       243533     False  2000   \n",
       "\n",
       "    danceability  energy  key  loudness  mode  speechiness  acousticness  \\\n",
       "8          0.713   0.678    5    -3.525     0       0.1020       0.27300   \n",
       "14         0.689   0.685    3    -5.153     1       0.0478       0.09210   \n",
       "17         0.671   0.880    8    -6.149     0       0.0552       0.00181   \n",
       "63         0.682   0.744    8    -6.981     1       0.0365       0.37600   \n",
       "70         0.859   0.622   11    -8.196     1       0.0445       0.06610   \n",
       "\n",
       "    liveness  valence    tempo                  genre  \n",
       "8     0.1490    0.734  138.009               pop, R&B  \n",
       "14    0.1190    0.398  160.067  pop, Dance/Electronic  \n",
       "17    0.2850    0.782  136.953                    pop  \n",
       "63    0.0600    0.827  132.493      hip hop, pop, R&B  \n",
       "70    0.0394    0.433  134.007               pop, R&B  "
      ]
     },
     "execution_count": 76,
     "metadata": {},
     "output_type": "execute_result"
    }
   ],
   "source": [
    "Piper_Aer.head(5)"
   ]
  },
  {
   "cell_type": "code",
   "execution_count": 77,
   "id": "42090a46",
   "metadata": {},
   "outputs": [
    {
     "data": {
      "text/plain": [
       "(155, 16)"
      ]
     },
     "execution_count": 77,
     "metadata": {},
     "output_type": "execute_result"
    }
   ],
   "source": [
    "Piper_Aer.shape"
   ]
  },
  {
   "cell_type": "code",
   "execution_count": 78,
   "id": "aeb8e0ee",
   "metadata": {},
   "outputs": [],
   "source": [
    "Piper_St = piper_df.loc[(piper_df.tempo >= 130) & (piper_df.tempo <= 150)]"
   ]
  },
  {
   "cell_type": "code",
   "execution_count": 79,
   "id": "0047f789",
   "metadata": {},
   "outputs": [
    {
     "data": {
      "text/plain": [
       "(126, 16)"
      ]
     },
     "execution_count": 79,
     "metadata": {},
     "output_type": "execute_result"
    }
   ],
   "source": [
    "Piper_St.shape"
   ]
  },
  {
   "cell_type": "code",
   "execution_count": 80,
   "id": "daef1807",
   "metadata": {},
   "outputs": [],
   "source": [
    "Piper_CD = piper_df.loc[(piper_df.tempo >= 60) & (piper_df.tempo <= 90)]"
   ]
  },
  {
   "cell_type": "code",
   "execution_count": 81,
   "id": "603a1888",
   "metadata": {},
   "outputs": [
    {
     "data": {
      "text/plain": [
       "(63, 16)"
      ]
     },
     "execution_count": 81,
     "metadata": {},
     "output_type": "execute_result"
    }
   ],
   "source": [
    "Piper_CD.shape"
   ]
  },
  {
   "cell_type": "code",
   "execution_count": 82,
   "id": "d88c1f1c",
   "metadata": {},
   "outputs": [],
   "source": [
    "#songs with pop genre or tempo >= 100 \n",
    "#df.loc[(df.genre=='pop') | (df.tempo >= 100)]"
   ]
  },
  {
   "cell_type": "code",
   "execution_count": 83,
   "id": "c293b816",
   "metadata": {},
   "outputs": [],
   "source": [
    "#select songs with genre pop or hip hop\n",
    "#df.loc[df.genre.isin(['pop', 'hip hop'])]"
   ]
  },
  {
   "cell_type": "code",
   "execution_count": 84,
   "id": "f6b170f1",
   "metadata": {},
   "outputs": [
    {
     "data": {
      "text/plain": [
       "count        2000\n",
       "unique        835\n",
       "top       Rihanna\n",
       "freq           25\n",
       "Name: artist, dtype: object"
      ]
     },
     "execution_count": 84,
     "metadata": {},
     "output_type": "execute_result"
    }
   ],
   "source": [
    "df.artist.describe()"
   ]
  },
  {
   "cell_type": "code",
   "execution_count": 85,
   "id": "b7160bca",
   "metadata": {},
   "outputs": [
    {
     "data": {
      "text/plain": [
       "artist\n",
       "Rihanna           25\n",
       "Drake             23\n",
       "Eminem            21\n",
       "Calvin Harris     20\n",
       "Britney Spears    19\n",
       "                  ..\n",
       "Sidney Samson      1\n",
       "Camâ€™ron          1\n",
       "Elvis Presley      1\n",
       "Lucenzo            1\n",
       "Blanco Brown       1\n",
       "Name: count, Length: 835, dtype: int64"
      ]
     },
     "execution_count": 85,
     "metadata": {},
     "output_type": "execute_result"
    }
   ],
   "source": [
    "df.artist.value_counts()"
   ]
  },
  {
   "cell_type": "code",
   "execution_count": 86,
   "id": "6405c4ef",
   "metadata": {},
   "outputs": [],
   "source": [
    "#how many songs received each popularity value\n",
    "#df.groupby('popularity').popularity.count()"
   ]
  },
  {
   "cell_type": "code",
   "execution_count": 87,
   "id": "9991d147",
   "metadata": {},
   "outputs": [],
   "source": [
    "#highest danceability in each popularity value\n",
    "#df.groupby('popularity').danceability.max()"
   ]
  },
  {
   "cell_type": "code",
   "execution_count": 88,
   "id": "c4a0e2d7",
   "metadata": {},
   "outputs": [
    {
     "data": {
      "text/html": [
       "<div>\n",
       "<style scoped>\n",
       "    .dataframe tbody tr th:only-of-type {\n",
       "        vertical-align: middle;\n",
       "    }\n",
       "\n",
       "    .dataframe tbody tr th {\n",
       "        vertical-align: top;\n",
       "    }\n",
       "\n",
       "    .dataframe thead th {\n",
       "        text-align: right;\n",
       "    }\n",
       "</style>\n",
       "<table border=\"1\" class=\"dataframe\">\n",
       "  <thead>\n",
       "    <tr style=\"text-align: right;\">\n",
       "      <th></th>\n",
       "      <th></th>\n",
       "      <th>artist</th>\n",
       "      <th>song</th>\n",
       "      <th>duration_ms</th>\n",
       "      <th>explicit</th>\n",
       "      <th>year</th>\n",
       "      <th>danceability</th>\n",
       "      <th>energy</th>\n",
       "      <th>key</th>\n",
       "      <th>loudness</th>\n",
       "      <th>mode</th>\n",
       "      <th>speechiness</th>\n",
       "      <th>acousticness</th>\n",
       "      <th>liveness</th>\n",
       "      <th>valence</th>\n",
       "      <th>tempo</th>\n",
       "      <th>genre</th>\n",
       "    </tr>\n",
       "    <tr>\n",
       "      <th>artist</th>\n",
       "      <th>genre</th>\n",
       "      <th></th>\n",
       "      <th></th>\n",
       "      <th></th>\n",
       "      <th></th>\n",
       "      <th></th>\n",
       "      <th></th>\n",
       "      <th></th>\n",
       "      <th></th>\n",
       "      <th></th>\n",
       "      <th></th>\n",
       "      <th></th>\n",
       "      <th></th>\n",
       "      <th></th>\n",
       "      <th></th>\n",
       "      <th></th>\n",
       "      <th></th>\n",
       "    </tr>\n",
       "  </thead>\n",
       "  <tbody>\n",
       "    <tr>\n",
       "      <th>*NSYNC</th>\n",
       "      <th>pop</th>\n",
       "      <td>*NSYNC</td>\n",
       "      <td>Girlfriend</td>\n",
       "      <td>253600</td>\n",
       "      <td>False</td>\n",
       "      <td>2001</td>\n",
       "      <td>0.745</td>\n",
       "      <td>0.807</td>\n",
       "      <td>0</td>\n",
       "      <td>-5.191</td>\n",
       "      <td>0</td>\n",
       "      <td>0.0884</td>\n",
       "      <td>0.08870</td>\n",
       "      <td>0.0283</td>\n",
       "      <td>0.858</td>\n",
       "      <td>93.967</td>\n",
       "      <td>pop</td>\n",
       "    </tr>\n",
       "    <tr>\n",
       "      <th>112</th>\n",
       "      <th>hip hop, pop, R&amp;B</th>\n",
       "      <td>112</td>\n",
       "      <td>Peaches &amp; Cream</td>\n",
       "      <td>193093</td>\n",
       "      <td>False</td>\n",
       "      <td>2001</td>\n",
       "      <td>0.677</td>\n",
       "      <td>0.520</td>\n",
       "      <td>4</td>\n",
       "      <td>-6.255</td>\n",
       "      <td>0</td>\n",
       "      <td>0.3340</td>\n",
       "      <td>0.00277</td>\n",
       "      <td>0.0532</td>\n",
       "      <td>0.768</td>\n",
       "      <td>203.862</td>\n",
       "      <td>hip hop, pop, R&amp;B</td>\n",
       "    </tr>\n",
       "    <tr>\n",
       "      <th>2 Chainz</th>\n",
       "      <th>hip hop, pop</th>\n",
       "      <td>2 Chainz</td>\n",
       "      <td>It's A Vibe</td>\n",
       "      <td>210200</td>\n",
       "      <td>True</td>\n",
       "      <td>2017</td>\n",
       "      <td>0.822</td>\n",
       "      <td>0.502</td>\n",
       "      <td>7</td>\n",
       "      <td>-7.380</td>\n",
       "      <td>1</td>\n",
       "      <td>0.1480</td>\n",
       "      <td>0.03120</td>\n",
       "      <td>0.1140</td>\n",
       "      <td>0.525</td>\n",
       "      <td>73.003</td>\n",
       "      <td>hip hop, pop</td>\n",
       "    </tr>\n",
       "    <tr>\n",
       "      <th>21 Savage</th>\n",
       "      <th>hip hop</th>\n",
       "      <td>21 Savage</td>\n",
       "      <td>Bank Account</td>\n",
       "      <td>220306</td>\n",
       "      <td>True</td>\n",
       "      <td>2017</td>\n",
       "      <td>0.884</td>\n",
       "      <td>0.347</td>\n",
       "      <td>8</td>\n",
       "      <td>-8.227</td>\n",
       "      <td>0</td>\n",
       "      <td>0.3500</td>\n",
       "      <td>0.01500</td>\n",
       "      <td>0.0871</td>\n",
       "      <td>0.376</td>\n",
       "      <td>75.016</td>\n",
       "      <td>hip hop</td>\n",
       "    </tr>\n",
       "    <tr>\n",
       "      <th>2Pac</th>\n",
       "      <th>hip hop</th>\n",
       "      <td>2Pac</td>\n",
       "      <td>Ghetto Gospel</td>\n",
       "      <td>238053</td>\n",
       "      <td>True</td>\n",
       "      <td>2004</td>\n",
       "      <td>0.794</td>\n",
       "      <td>0.614</td>\n",
       "      <td>5</td>\n",
       "      <td>-5.352</td>\n",
       "      <td>0</td>\n",
       "      <td>0.0467</td>\n",
       "      <td>0.09640</td>\n",
       "      <td>0.0788</td>\n",
       "      <td>0.663</td>\n",
       "      <td>80.569</td>\n",
       "      <td>hip hop</td>\n",
       "    </tr>\n",
       "    <tr>\n",
       "      <th>...</th>\n",
       "      <th>...</th>\n",
       "      <td>...</td>\n",
       "      <td>...</td>\n",
       "      <td>...</td>\n",
       "      <td>...</td>\n",
       "      <td>...</td>\n",
       "      <td>...</td>\n",
       "      <td>...</td>\n",
       "      <td>...</td>\n",
       "      <td>...</td>\n",
       "      <td>...</td>\n",
       "      <td>...</td>\n",
       "      <td>...</td>\n",
       "      <td>...</td>\n",
       "      <td>...</td>\n",
       "      <td>...</td>\n",
       "      <td>...</td>\n",
       "    </tr>\n",
       "    <tr>\n",
       "      <th>Zay Hilfigerrr</th>\n",
       "      <th>set()</th>\n",
       "      <td>Zay Hilfigerrr</td>\n",
       "      <td>Juju on That Beat (TZ Anthem)</td>\n",
       "      <td>144244</td>\n",
       "      <td>False</td>\n",
       "      <td>2016</td>\n",
       "      <td>0.807</td>\n",
       "      <td>0.887</td>\n",
       "      <td>1</td>\n",
       "      <td>-3.892</td>\n",
       "      <td>1</td>\n",
       "      <td>0.2750</td>\n",
       "      <td>0.00381</td>\n",
       "      <td>0.3910</td>\n",
       "      <td>0.780</td>\n",
       "      <td>160.517</td>\n",
       "      <td>set()</td>\n",
       "    </tr>\n",
       "    <tr>\n",
       "      <th>Zedd</th>\n",
       "      <th>hip hop, pop, Dance/Electronic</th>\n",
       "      <td>Zedd</td>\n",
       "      <td>The Middle</td>\n",
       "      <td>184732</td>\n",
       "      <td>False</td>\n",
       "      <td>2018</td>\n",
       "      <td>0.753</td>\n",
       "      <td>0.657</td>\n",
       "      <td>7</td>\n",
       "      <td>-3.061</td>\n",
       "      <td>1</td>\n",
       "      <td>0.0449</td>\n",
       "      <td>0.17100</td>\n",
       "      <td>0.1120</td>\n",
       "      <td>0.437</td>\n",
       "      <td>107.010</td>\n",
       "      <td>hip hop, pop, Dance/Electronic</td>\n",
       "    </tr>\n",
       "    <tr>\n",
       "      <th>blackbear</th>\n",
       "      <th>hip hop, pop, Dance/Electronic</th>\n",
       "      <td>blackbear</td>\n",
       "      <td>do re mi</td>\n",
       "      <td>212027</td>\n",
       "      <td>True</td>\n",
       "      <td>2017</td>\n",
       "      <td>0.745</td>\n",
       "      <td>0.593</td>\n",
       "      <td>8</td>\n",
       "      <td>-6.350</td>\n",
       "      <td>1</td>\n",
       "      <td>0.0526</td>\n",
       "      <td>0.00522</td>\n",
       "      <td>0.1230</td>\n",
       "      <td>0.170</td>\n",
       "      <td>111.002</td>\n",
       "      <td>hip hop, pop, Dance/Electronic</td>\n",
       "    </tr>\n",
       "    <tr>\n",
       "      <th>iann dior</th>\n",
       "      <th>hip hop, pop</th>\n",
       "      <td>iann dior</td>\n",
       "      <td>gone girl</td>\n",
       "      <td>136568</td>\n",
       "      <td>True</td>\n",
       "      <td>2019</td>\n",
       "      <td>0.677</td>\n",
       "      <td>0.714</td>\n",
       "      <td>11</td>\n",
       "      <td>-5.637</td>\n",
       "      <td>1</td>\n",
       "      <td>0.0287</td>\n",
       "      <td>0.16200</td>\n",
       "      <td>0.0717</td>\n",
       "      <td>0.355</td>\n",
       "      <td>94.956</td>\n",
       "      <td>hip hop, pop</td>\n",
       "    </tr>\n",
       "    <tr>\n",
       "      <th>will.i.am</th>\n",
       "      <th>hip hop, pop</th>\n",
       "      <td>will.i.am</td>\n",
       "      <td>#thatPOWER</td>\n",
       "      <td>279506</td>\n",
       "      <td>False</td>\n",
       "      <td>2013</td>\n",
       "      <td>0.797</td>\n",
       "      <td>0.608</td>\n",
       "      <td>6</td>\n",
       "      <td>-6.096</td>\n",
       "      <td>0</td>\n",
       "      <td>0.0584</td>\n",
       "      <td>0.00112</td>\n",
       "      <td>0.0748</td>\n",
       "      <td>0.402</td>\n",
       "      <td>127.999</td>\n",
       "      <td>hip hop, pop</td>\n",
       "    </tr>\n",
       "  </tbody>\n",
       "</table>\n",
       "<p>509 rows × 16 columns</p>\n",
       "</div>"
      ],
      "text/plain": [
       "                                                       artist  \\\n",
       "artist         genre                                            \n",
       "*NSYNC         pop                                     *NSYNC   \n",
       "112            hip hop, pop, R&B                          112   \n",
       "2 Chainz       hip hop, pop                          2 Chainz   \n",
       "21 Savage      hip hop                              21 Savage   \n",
       "2Pac           hip hop                                   2Pac   \n",
       "...                                                       ...   \n",
       "Zay Hilfigerrr set()                           Zay Hilfigerrr   \n",
       "Zedd           hip hop, pop, Dance/Electronic            Zedd   \n",
       "blackbear      hip hop, pop, Dance/Electronic       blackbear   \n",
       "iann dior      hip hop, pop                         iann dior   \n",
       "will.i.am      hip hop, pop                         will.i.am   \n",
       "\n",
       "                                                                        song  \\\n",
       "artist         genre                                                           \n",
       "*NSYNC         pop                                                Girlfriend   \n",
       "112            hip hop, pop, R&B                             Peaches & Cream   \n",
       "2 Chainz       hip hop, pop                                      It's A Vibe   \n",
       "21 Savage      hip hop                                          Bank Account   \n",
       "2Pac           hip hop                                         Ghetto Gospel   \n",
       "...                                                                      ...   \n",
       "Zay Hilfigerrr set()                           Juju on That Beat (TZ Anthem)   \n",
       "Zedd           hip hop, pop, Dance/Electronic                     The Middle   \n",
       "blackbear      hip hop, pop, Dance/Electronic                       do re mi   \n",
       "iann dior      hip hop, pop                                        gone girl   \n",
       "will.i.am      hip hop, pop                                       #thatPOWER   \n",
       "\n",
       "                                               duration_ms  explicit  year  \\\n",
       "artist         genre                                                         \n",
       "*NSYNC         pop                                  253600     False  2001   \n",
       "112            hip hop, pop, R&B                    193093     False  2001   \n",
       "2 Chainz       hip hop, pop                         210200      True  2017   \n",
       "21 Savage      hip hop                              220306      True  2017   \n",
       "2Pac           hip hop                              238053      True  2004   \n",
       "...                                                    ...       ...   ...   \n",
       "Zay Hilfigerrr set()                                144244     False  2016   \n",
       "Zedd           hip hop, pop, Dance/Electronic       184732     False  2018   \n",
       "blackbear      hip hop, pop, Dance/Electronic       212027      True  2017   \n",
       "iann dior      hip hop, pop                         136568      True  2019   \n",
       "will.i.am      hip hop, pop                         279506     False  2013   \n",
       "\n",
       "                                               danceability  energy  key  \\\n",
       "artist         genre                                                       \n",
       "*NSYNC         pop                                    0.745   0.807    0   \n",
       "112            hip hop, pop, R&B                      0.677   0.520    4   \n",
       "2 Chainz       hip hop, pop                           0.822   0.502    7   \n",
       "21 Savage      hip hop                                0.884   0.347    8   \n",
       "2Pac           hip hop                                0.794   0.614    5   \n",
       "...                                                     ...     ...  ...   \n",
       "Zay Hilfigerrr set()                                  0.807   0.887    1   \n",
       "Zedd           hip hop, pop, Dance/Electronic         0.753   0.657    7   \n",
       "blackbear      hip hop, pop, Dance/Electronic         0.745   0.593    8   \n",
       "iann dior      hip hop, pop                           0.677   0.714   11   \n",
       "will.i.am      hip hop, pop                           0.797   0.608    6   \n",
       "\n",
       "                                               loudness  mode  speechiness  \\\n",
       "artist         genre                                                         \n",
       "*NSYNC         pop                               -5.191     0       0.0884   \n",
       "112            hip hop, pop, R&B                 -6.255     0       0.3340   \n",
       "2 Chainz       hip hop, pop                      -7.380     1       0.1480   \n",
       "21 Savage      hip hop                           -8.227     0       0.3500   \n",
       "2Pac           hip hop                           -5.352     0       0.0467   \n",
       "...                                                 ...   ...          ...   \n",
       "Zay Hilfigerrr set()                             -3.892     1       0.2750   \n",
       "Zedd           hip hop, pop, Dance/Electronic    -3.061     1       0.0449   \n",
       "blackbear      hip hop, pop, Dance/Electronic    -6.350     1       0.0526   \n",
       "iann dior      hip hop, pop                      -5.637     1       0.0287   \n",
       "will.i.am      hip hop, pop                      -6.096     0       0.0584   \n",
       "\n",
       "                                               acousticness  liveness  \\\n",
       "artist         genre                                                    \n",
       "*NSYNC         pop                                  0.08870    0.0283   \n",
       "112            hip hop, pop, R&B                    0.00277    0.0532   \n",
       "2 Chainz       hip hop, pop                         0.03120    0.1140   \n",
       "21 Savage      hip hop                              0.01500    0.0871   \n",
       "2Pac           hip hop                              0.09640    0.0788   \n",
       "...                                                     ...       ...   \n",
       "Zay Hilfigerrr set()                                0.00381    0.3910   \n",
       "Zedd           hip hop, pop, Dance/Electronic       0.17100    0.1120   \n",
       "blackbear      hip hop, pop, Dance/Electronic       0.00522    0.1230   \n",
       "iann dior      hip hop, pop                         0.16200    0.0717   \n",
       "will.i.am      hip hop, pop                         0.00112    0.0748   \n",
       "\n",
       "                                               valence    tempo  \\\n",
       "artist         genre                                              \n",
       "*NSYNC         pop                               0.858   93.967   \n",
       "112            hip hop, pop, R&B                 0.768  203.862   \n",
       "2 Chainz       hip hop, pop                      0.525   73.003   \n",
       "21 Savage      hip hop                           0.376   75.016   \n",
       "2Pac           hip hop                           0.663   80.569   \n",
       "...                                                ...      ...   \n",
       "Zay Hilfigerrr set()                             0.780  160.517   \n",
       "Zedd           hip hop, pop, Dance/Electronic    0.437  107.010   \n",
       "blackbear      hip hop, pop, Dance/Electronic    0.170  111.002   \n",
       "iann dior      hip hop, pop                      0.355   94.956   \n",
       "will.i.am      hip hop, pop                      0.402  127.999   \n",
       "\n",
       "                                                                        genre  \n",
       "artist         genre                                                           \n",
       "*NSYNC         pop                                                        pop  \n",
       "112            hip hop, pop, R&B                            hip hop, pop, R&B  \n",
       "2 Chainz       hip hop, pop                                      hip hop, pop  \n",
       "21 Savage      hip hop                                                hip hop  \n",
       "2Pac           hip hop                                                hip hop  \n",
       "...                                                                       ...  \n",
       "Zay Hilfigerrr set()                                                    set()  \n",
       "Zedd           hip hop, pop, Dance/Electronic  hip hop, pop, Dance/Electronic  \n",
       "blackbear      hip hop, pop, Dance/Electronic  hip hop, pop, Dance/Electronic  \n",
       "iann dior      hip hop, pop                                      hip hop, pop  \n",
       "will.i.am      hip hop, pop                                      hip hop, pop  \n",
       "\n",
       "[509 rows x 16 columns]"
      ]
     },
     "execution_count": 88,
     "metadata": {},
     "output_type": "execute_result"
    }
   ],
   "source": [
    "clean_df.groupby(['artist','genre']).apply(lambda df: clean_df.loc[df.danceability.idxmax()])"
   ]
  },
  {
   "cell_type": "code",
   "execution_count": 89,
   "id": "b5cccbdd",
   "metadata": {},
   "outputs": [],
   "source": [
    "#df.groupby(['genre']).popularity.agg([min, max])"
   ]
  },
  {
   "cell_type": "code",
   "execution_count": 90,
   "id": "1ded7335",
   "metadata": {},
   "outputs": [],
   "source": [
    "#sort data by artist and popularity (ascending)\n",
    "#df.sort_values(by=['artist','popularity'])"
   ]
  },
  {
   "cell_type": "code",
   "execution_count": 91,
   "id": "bfda3671",
   "metadata": {},
   "outputs": [
    {
     "data": {
      "text/plain": [
       "dtype('int64')"
      ]
     },
     "execution_count": 91,
     "metadata": {},
     "output_type": "execute_result"
    }
   ],
   "source": [
    "df.key.dtype"
   ]
  },
  {
   "cell_type": "code",
   "execution_count": 92,
   "id": "152c4c9f",
   "metadata": {},
   "outputs": [
    {
     "data": {
      "text/plain": [
       "dtype('int64')"
      ]
     },
     "execution_count": 92,
     "metadata": {},
     "output_type": "execute_result"
    }
   ],
   "source": [
    "df.index.dtype"
   ]
  },
  {
   "cell_type": "code",
   "execution_count": 93,
   "id": "4f43c76b",
   "metadata": {},
   "outputs": [
    {
     "data": {
      "text/html": [
       "<div>\n",
       "<style scoped>\n",
       "    .dataframe tbody tr th:only-of-type {\n",
       "        vertical-align: middle;\n",
       "    }\n",
       "\n",
       "    .dataframe tbody tr th {\n",
       "        vertical-align: top;\n",
       "    }\n",
       "\n",
       "    .dataframe thead th {\n",
       "        text-align: right;\n",
       "    }\n",
       "</style>\n",
       "<table border=\"1\" class=\"dataframe\">\n",
       "  <thead>\n",
       "    <tr style=\"text-align: right;\">\n",
       "      <th></th>\n",
       "      <th>artist</th>\n",
       "      <th>song</th>\n",
       "      <th>duration_ms</th>\n",
       "      <th>explicit</th>\n",
       "      <th>year</th>\n",
       "      <th>danceability</th>\n",
       "      <th>energy</th>\n",
       "      <th>key</th>\n",
       "      <th>loudness</th>\n",
       "      <th>mode</th>\n",
       "      <th>speechiness</th>\n",
       "      <th>acousticness</th>\n",
       "      <th>liveness</th>\n",
       "      <th>valence</th>\n",
       "      <th>tempo</th>\n",
       "      <th>genre</th>\n",
       "    </tr>\n",
       "  </thead>\n",
       "  <tbody>\n",
       "    <tr>\n",
       "      <th>0</th>\n",
       "      <td>Britney Spears</td>\n",
       "      <td>Oops!...I Did It Again</td>\n",
       "      <td>211160</td>\n",
       "      <td>False</td>\n",
       "      <td>2000</td>\n",
       "      <td>0.751</td>\n",
       "      <td>0.834</td>\n",
       "      <td>1</td>\n",
       "      <td>-5.444</td>\n",
       "      <td>0</td>\n",
       "      <td>0.0437</td>\n",
       "      <td>0.300</td>\n",
       "      <td>0.355</td>\n",
       "      <td>0.894</td>\n",
       "      <td>95.053</td>\n",
       "      <td>pop</td>\n",
       "    </tr>\n",
       "    <tr>\n",
       "      <th>5</th>\n",
       "      <td>Sisqo</td>\n",
       "      <td>Thong Song</td>\n",
       "      <td>253733</td>\n",
       "      <td>True</td>\n",
       "      <td>1999</td>\n",
       "      <td>0.706</td>\n",
       "      <td>0.888</td>\n",
       "      <td>2</td>\n",
       "      <td>-6.959</td>\n",
       "      <td>1</td>\n",
       "      <td>0.0654</td>\n",
       "      <td>0.119</td>\n",
       "      <td>0.070</td>\n",
       "      <td>0.714</td>\n",
       "      <td>121.549</td>\n",
       "      <td>hip hop, pop, R&amp;B</td>\n",
       "    </tr>\n",
       "  </tbody>\n",
       "</table>\n",
       "</div>"
      ],
      "text/plain": [
       "           artist                    song  duration_ms  explicit  year  \\\n",
       "0  Britney Spears  Oops!...I Did It Again       211160     False  2000   \n",
       "5           Sisqo              Thong Song       253733      True  1999   \n",
       "\n",
       "   danceability  energy  key  loudness  mode  speechiness  acousticness  \\\n",
       "0         0.751   0.834    1    -5.444     0       0.0437         0.300   \n",
       "5         0.706   0.888    2    -6.959     1       0.0654         0.119   \n",
       "\n",
       "   liveness  valence    tempo              genre  \n",
       "0     0.355    0.894   95.053                pop  \n",
       "5     0.070    0.714  121.549  hip hop, pop, R&B  "
      ]
     },
     "execution_count": 93,
     "metadata": {},
     "output_type": "execute_result"
    }
   ],
   "source": [
    "clean_df.head(2)"
   ]
  },
  {
   "cell_type": "code",
   "execution_count": 94,
   "id": "c517b875",
   "metadata": {},
   "outputs": [
    {
     "data": {
      "text/plain": [
       "count     968.000000\n",
       "mean     2009.814050\n",
       "std         6.123896\n",
       "min      1998.000000\n",
       "25%      2004.000000\n",
       "50%      2010.000000\n",
       "75%      2016.000000\n",
       "max      2020.000000\n",
       "Name: year, dtype: float64"
      ]
     },
     "execution_count": 94,
     "metadata": {},
     "output_type": "execute_result"
    }
   ],
   "source": [
    "#learn more about year\n",
    "clean_df.year.describe()"
   ]
  },
  {
   "cell_type": "code",
   "execution_count": 95,
   "id": "8aba3989",
   "metadata": {},
   "outputs": [
    {
     "data": {
      "text/plain": [
       "(437, 16)"
      ]
     },
     "execution_count": 95,
     "metadata": {},
     "output_type": "execute_result"
    }
   ],
   "source": [
    "#find songs from the 2000s for Molly \n",
    "Molly_df = clean_df[(clean_df['year'] > 1999) & (clean_df['year'] < 2010)]\n",
    "\n",
    "Molly_df.shape"
   ]
  },
  {
   "cell_type": "code",
   "execution_count": 96,
   "id": "d8628d3d",
   "metadata": {},
   "outputs": [
    {
     "data": {
      "text/html": [
       "<div>\n",
       "<style scoped>\n",
       "    .dataframe tbody tr th:only-of-type {\n",
       "        vertical-align: middle;\n",
       "    }\n",
       "\n",
       "    .dataframe tbody tr th {\n",
       "        vertical-align: top;\n",
       "    }\n",
       "\n",
       "    .dataframe thead th {\n",
       "        text-align: right;\n",
       "    }\n",
       "</style>\n",
       "<table border=\"1\" class=\"dataframe\">\n",
       "  <thead>\n",
       "    <tr style=\"text-align: right;\">\n",
       "      <th></th>\n",
       "      <th>artist</th>\n",
       "      <th>song</th>\n",
       "      <th>duration_ms</th>\n",
       "      <th>explicit</th>\n",
       "      <th>year</th>\n",
       "      <th>danceability</th>\n",
       "      <th>energy</th>\n",
       "      <th>key</th>\n",
       "      <th>loudness</th>\n",
       "      <th>mode</th>\n",
       "      <th>speechiness</th>\n",
       "      <th>acousticness</th>\n",
       "      <th>liveness</th>\n",
       "      <th>valence</th>\n",
       "      <th>tempo</th>\n",
       "      <th>genre</th>\n",
       "    </tr>\n",
       "  </thead>\n",
       "  <tbody>\n",
       "    <tr>\n",
       "      <th>0</th>\n",
       "      <td>Britney Spears</td>\n",
       "      <td>Oops!...I Did It Again</td>\n",
       "      <td>211160</td>\n",
       "      <td>False</td>\n",
       "      <td>2000</td>\n",
       "      <td>0.751</td>\n",
       "      <td>0.834</td>\n",
       "      <td>1</td>\n",
       "      <td>-5.444</td>\n",
       "      <td>0</td>\n",
       "      <td>0.0437</td>\n",
       "      <td>0.3000</td>\n",
       "      <td>0.3550</td>\n",
       "      <td>0.894</td>\n",
       "      <td>95.053</td>\n",
       "      <td>pop</td>\n",
       "    </tr>\n",
       "    <tr>\n",
       "      <th>6</th>\n",
       "      <td>Eminem</td>\n",
       "      <td>The Real Slim Shady</td>\n",
       "      <td>284200</td>\n",
       "      <td>True</td>\n",
       "      <td>2000</td>\n",
       "      <td>0.949</td>\n",
       "      <td>0.661</td>\n",
       "      <td>5</td>\n",
       "      <td>-4.244</td>\n",
       "      <td>0</td>\n",
       "      <td>0.0572</td>\n",
       "      <td>0.0302</td>\n",
       "      <td>0.0454</td>\n",
       "      <td>0.760</td>\n",
       "      <td>104.504</td>\n",
       "      <td>hip hop</td>\n",
       "    </tr>\n",
       "    <tr>\n",
       "      <th>7</th>\n",
       "      <td>Robbie Williams</td>\n",
       "      <td>Rock DJ</td>\n",
       "      <td>258560</td>\n",
       "      <td>False</td>\n",
       "      <td>2000</td>\n",
       "      <td>0.708</td>\n",
       "      <td>0.772</td>\n",
       "      <td>7</td>\n",
       "      <td>-4.264</td>\n",
       "      <td>1</td>\n",
       "      <td>0.0322</td>\n",
       "      <td>0.0267</td>\n",
       "      <td>0.4670</td>\n",
       "      <td>0.861</td>\n",
       "      <td>103.035</td>\n",
       "      <td>pop, rock</td>\n",
       "    </tr>\n",
       "  </tbody>\n",
       "</table>\n",
       "</div>"
      ],
      "text/plain": [
       "            artist                    song  duration_ms  explicit  year  \\\n",
       "0   Britney Spears  Oops!...I Did It Again       211160     False  2000   \n",
       "6           Eminem     The Real Slim Shady       284200      True  2000   \n",
       "7  Robbie Williams                 Rock DJ       258560     False  2000   \n",
       "\n",
       "   danceability  energy  key  loudness  mode  speechiness  acousticness  \\\n",
       "0         0.751   0.834    1    -5.444     0       0.0437        0.3000   \n",
       "6         0.949   0.661    5    -4.244     0       0.0572        0.0302   \n",
       "7         0.708   0.772    7    -4.264     1       0.0322        0.0267   \n",
       "\n",
       "   liveness  valence    tempo      genre  \n",
       "0    0.3550    0.894   95.053        pop  \n",
       "6    0.0454    0.760  104.504    hip hop  \n",
       "7    0.4670    0.861  103.035  pop, rock  "
      ]
     },
     "execution_count": 96,
     "metadata": {},
     "output_type": "execute_result"
    }
   ],
   "source": [
    "#confirm Molly's songs are from the 2000s\n",
    "Molly_df.head(3)"
   ]
  },
  {
   "cell_type": "code",
   "execution_count": 126,
   "id": "f210c622",
   "metadata": {},
   "outputs": [],
   "source": [
    "Molly_WU = Molly_df.loc[(Molly_df.tempo >= 100) & (Molly_df.tempo <= 140)]"
   ]
  },
  {
   "cell_type": "code",
   "execution_count": 127,
   "id": "fc4f0ebe",
   "metadata": {},
   "outputs": [
    {
     "data": {
      "text/plain": [
       "(255, 16)"
      ]
     },
     "execution_count": 127,
     "metadata": {},
     "output_type": "execute_result"
    }
   ],
   "source": [
    "Molly_WU.shape"
   ]
  },
  {
   "cell_type": "code",
   "execution_count": 128,
   "id": "0e4070a5",
   "metadata": {},
   "outputs": [],
   "source": [
    "Molly_Aer = Molly_df.loc[(Molly_df.tempo >= 130) & (Molly_df.tempo <= 170)]"
   ]
  },
  {
   "cell_type": "code",
   "execution_count": 129,
   "id": "74402bb0",
   "metadata": {},
   "outputs": [
    {
     "data": {
      "text/plain": [
       "(74, 16)"
      ]
     },
     "execution_count": 129,
     "metadata": {},
     "output_type": "execute_result"
    }
   ],
   "source": [
    "Molly_Aer.shape"
   ]
  },
  {
   "cell_type": "code",
   "execution_count": 130,
   "id": "2e78a844",
   "metadata": {},
   "outputs": [
    {
     "data": {
      "text/plain": [
       "17257859"
      ]
     },
     "execution_count": 130,
     "metadata": {},
     "output_type": "execute_result"
    }
   ],
   "source": [
    "Molly_Aer['duration_ms'].sum()"
   ]
  },
  {
   "cell_type": "code",
   "execution_count": 131,
   "id": "a12aabd1",
   "metadata": {},
   "outputs": [],
   "source": [
    "Molly_CD = Molly_df.loc[(Molly_df.tempo >= 60) & (Molly_df.tempo <= 90)]"
   ]
  },
  {
   "cell_type": "code",
   "execution_count": 132,
   "id": "069fc7d6",
   "metadata": {},
   "outputs": [
    {
     "data": {
      "text/plain": [
       "(48, 16)"
      ]
     },
     "execution_count": 132,
     "metadata": {},
     "output_type": "execute_result"
    }
   ],
   "source": [
    "Molly_CD.shape"
   ]
  },
  {
   "cell_type": "code",
   "execution_count": 133,
   "id": "1e66d3cc",
   "metadata": {
    "scrolled": true
   },
   "outputs": [
    {
     "data": {
      "text/plain": [
       "<Axes: xlabel='tempo', ylabel='Count'>"
      ]
     },
     "execution_count": 133,
     "metadata": {},
     "output_type": "execute_result"
    },
    {
     "data": {
      "image/png": "[encoded data removed]",
      "text/plain": [
       "<Figure size 640x480 with 1 Axes>"
      ]
     },
     "metadata": {},
     "output_type": "display_data"
    }
   ],
   "source": [
    "sns.histplot(piper_df.tempo)"
   ]
  },
  {
   "cell_type": "code",
   "execution_count": null,
   "id": "d8bb987c",
   "metadata": {
    "collapsed": true
   },
   "outputs": [],
   "source": [
    "\n",
    "\n",
    "clean_df.dtypes"
   ]
  },
  {
   "cell_type": "code",
   "execution_count": 98,
   "id": "7e7cb7d6",
   "metadata": {},
   "outputs": [],
   "source": [
    "import pandas as pd\n",
    "import numpy as np\n",
    "import matplotlib.pyplot as plt\n",
    "from sklearn.cluster import KMeans\n",
    "from sklearn.preprocessing import StandardScaler"
   ]
  },
  {
   "cell_type": "code",
   "execution_count": 99,
   "id": "b13cfc06",
   "metadata": {},
   "outputs": [],
   "source": [
    "copy_df = df"
   ]
  },
  {
   "cell_type": "code",
   "execution_count": 100,
   "id": "1389d201",
   "metadata": {},
   "outputs": [
    {
     "data": {
      "text/html": [
       "<div>\n",
       "<style scoped>\n",
       "    .dataframe tbody tr th:only-of-type {\n",
       "        vertical-align: middle;\n",
       "    }\n",
       "\n",
       "    .dataframe tbody tr th {\n",
       "        vertical-align: top;\n",
       "    }\n",
       "\n",
       "    .dataframe thead th {\n",
       "        text-align: right;\n",
       "    }\n",
       "</style>\n",
       "<table border=\"1\" class=\"dataframe\">\n",
       "  <thead>\n",
       "    <tr style=\"text-align: right;\">\n",
       "      <th></th>\n",
       "      <th>artist</th>\n",
       "      <th>song</th>\n",
       "      <th>duration_ms</th>\n",
       "      <th>explicit</th>\n",
       "      <th>year</th>\n",
       "      <th>popularity</th>\n",
       "      <th>danceability</th>\n",
       "      <th>energy</th>\n",
       "      <th>key</th>\n",
       "      <th>loudness</th>\n",
       "      <th>mode</th>\n",
       "      <th>speechiness</th>\n",
       "      <th>acousticness</th>\n",
       "      <th>instrumentalness</th>\n",
       "      <th>liveness</th>\n",
       "      <th>valence</th>\n",
       "      <th>tempo</th>\n",
       "      <th>genre</th>\n",
       "    </tr>\n",
       "  </thead>\n",
       "  <tbody>\n",
       "    <tr>\n",
       "      <th>0</th>\n",
       "      <td>Britney Spears</td>\n",
       "      <td>Oops!...I Did It Again</td>\n",
       "      <td>211160</td>\n",
       "      <td>False</td>\n",
       "      <td>2000</td>\n",
       "      <td>77</td>\n",
       "      <td>0.751</td>\n",
       "      <td>0.834</td>\n",
       "      <td>1</td>\n",
       "      <td>-5.444</td>\n",
       "      <td>0</td>\n",
       "      <td>0.0437</td>\n",
       "      <td>0.3000</td>\n",
       "      <td>0.000018</td>\n",
       "      <td>0.355</td>\n",
       "      <td>0.894</td>\n",
       "      <td>95.053</td>\n",
       "      <td>pop</td>\n",
       "    </tr>\n",
       "    <tr>\n",
       "      <th>1</th>\n",
       "      <td>blink-182</td>\n",
       "      <td>All The Small Things</td>\n",
       "      <td>167066</td>\n",
       "      <td>False</td>\n",
       "      <td>1999</td>\n",
       "      <td>79</td>\n",
       "      <td>0.434</td>\n",
       "      <td>0.897</td>\n",
       "      <td>0</td>\n",
       "      <td>-4.918</td>\n",
       "      <td>1</td>\n",
       "      <td>0.0488</td>\n",
       "      <td>0.0103</td>\n",
       "      <td>0.000000</td>\n",
       "      <td>0.612</td>\n",
       "      <td>0.684</td>\n",
       "      <td>148.726</td>\n",
       "      <td>rock, pop</td>\n",
       "    </tr>\n",
       "    <tr>\n",
       "      <th>2</th>\n",
       "      <td>Faith Hill</td>\n",
       "      <td>Breathe</td>\n",
       "      <td>250546</td>\n",
       "      <td>False</td>\n",
       "      <td>1999</td>\n",
       "      <td>66</td>\n",
       "      <td>0.529</td>\n",
       "      <td>0.496</td>\n",
       "      <td>7</td>\n",
       "      <td>-9.007</td>\n",
       "      <td>1</td>\n",
       "      <td>0.0290</td>\n",
       "      <td>0.1730</td>\n",
       "      <td>0.000000</td>\n",
       "      <td>0.251</td>\n",
       "      <td>0.278</td>\n",
       "      <td>136.859</td>\n",
       "      <td>pop, country</td>\n",
       "    </tr>\n",
       "  </tbody>\n",
       "</table>\n",
       "</div>"
      ],
      "text/plain": [
       "           artist                    song  duration_ms  explicit  year  \\\n",
       "0  Britney Spears  Oops!...I Did It Again       211160     False  2000   \n",
       "1       blink-182    All The Small Things       167066     False  1999   \n",
       "2      Faith Hill                 Breathe       250546     False  1999   \n",
       "\n",
       "   popularity  danceability  energy  key  loudness  mode  speechiness  \\\n",
       "0          77         0.751   0.834    1    -5.444     0       0.0437   \n",
       "1          79         0.434   0.897    0    -4.918     1       0.0488   \n",
       "2          66         0.529   0.496    7    -9.007     1       0.0290   \n",
       "\n",
       "   acousticness  instrumentalness  liveness  valence    tempo         genre  \n",
       "0        0.3000          0.000018     0.355    0.894   95.053           pop  \n",
       "1        0.0103          0.000000     0.612    0.684  148.726     rock, pop  \n",
       "2        0.1730          0.000000     0.251    0.278  136.859  pop, country  "
      ]
     },
     "execution_count": 100,
     "metadata": {},
     "output_type": "execute_result"
    }
   ],
   "source": [
    "copy_df.head(3)"
   ]
  },
  {
   "cell_type": "code",
   "execution_count": 101,
   "id": "70c0b112",
   "metadata": {},
   "outputs": [
    {
     "data": {
      "text/plain": [
       "array([[  0.751,  95.053],\n",
       "       [  0.434, 148.726],\n",
       "       [  0.529, 136.859],\n",
       "       ...,\n",
       "       [  0.847,  97.984],\n",
       "       [  0.741, 102.998],\n",
       "       [  0.695, 120.042]])"
      ]
     },
     "execution_count": 101,
     "metadata": {},
     "output_type": "execute_result"
    }
   ],
   "source": [
    "#use danceability, tempo fields to create data frame\n",
    "X = copy_df.iloc[:, [6, 16]].values\n",
    "\n",
    "X"
   ]
  },
  {
   "cell_type": "code",
   "execution_count": 102,
   "id": "0c890dd0",
   "metadata": {},
   "outputs": [],
   "source": [
    "##using elbow method to find number of clusters (returned error...)\n",
    "#wcss = []\n",
    "#for i in range(1, 11):\n",
    "   #kmeans = KMeans(n_clusters = i, init = 'k-means++', random_state = 42)\n",
    "   #kmeans.fit(X)\n",
    "    #inertia method returns wcss for that model\n",
    "    #wcss.append(kmeans.inertia_)"
   ]
  },
  {
   "cell_type": "code",
   "execution_count": 103,
   "id": "d4ccc00c",
   "metadata": {},
   "outputs": [],
   "source": [
    "#initialize kmeans parameters\n",
    "kmeans_kwargs = {\n",
    "\"init\": \"random\",\n",
    "\"n_init\": 10,\n",
    "\"random_state\": 1,\n",
    "}"
   ]
  },
  {
   "cell_type": "code",
   "execution_count": 104,
   "id": "85177844",
   "metadata": {},
   "outputs": [],
   "source": [
    "#create list to hold SSE values for each k\n",
    "sse = []\n",
    "for k in range(1, 11):\n",
    "    kmeans = KMeans(n_clusters=k, **kmeans_kwargs)\n",
    "    kmeans.fit(X)\n",
    "    sse.append(kmeans.inertia_)"
   ]
  },
  {
   "cell_type": "code",
   "execution_count": 105,
   "id": "1fa35e6e",
   "metadata": {},
   "outputs": [
    {
     "data": {
      "image/png": "[encoded data removed]",
      "text/plain": [
       "<Figure size 640x480 with 1 Axes>"
      ]
     },
     "metadata": {},
     "output_type": "display_data"
    }
   ],
   "source": [
    "#visualize results\n",
    "plt.plot(range(1, 11), sse)\n",
    "plt.xticks(range(1, 11))\n",
    "plt.xlabel(\"Number of Clusters\")\n",
    "plt.ylabel(\"SSE\")\n",
    "plt.show()"
   ]
  },
  {
   "cell_type": "code",
   "execution_count": 106,
   "id": "399d7858",
   "metadata": {},
   "outputs": [],
   "source": [
    "#create list to hold WCSS values for each k\n",
    "wcss = []\n",
    "for k in range(1, 11):\n",
    "    kmeans = KMeans(n_clusters=k, **kmeans_kwargs)\n",
    "    kmeans.fit(X)\n",
    "    wcss.append(kmeans.inertia_)"
   ]
  },
  {
   "cell_type": "code",
   "execution_count": 107,
   "id": "620b8f4f",
   "metadata": {},
   "outputs": [
    {
     "data": {
      "image/png": "[encoded data removed]",
      "text/plain": [
       "<Figure size 640x480 with 1 Axes>"
      ]
     },
     "metadata": {},
     "output_type": "display_data"
    }
   ],
   "source": [
    "#visualize results: 3 clusters \n",
    "plt.plot(range(1, 11), wcss)\n",
    "plt.xticks(range(1, 11))\n",
    "plt.xlabel(\"Number of Clusters\")\n",
    "plt.ylabel(\"WCSS\")\n",
    "plt.show()"
   ]
  },
  {
   "cell_type": "code",
   "execution_count": 108,
   "id": "6f955a32",
   "metadata": {},
   "outputs": [
    {
     "name": "stdout",
     "output_type": "stream",
     "text": [
      "[2 0 1 ... 2 2 1]\n"
     ]
    }
   ],
   "source": [
    "#perform K-means clustering with Optimal K\n",
    "kmeans = KMeans(init=\"random\", n_clusters=3, n_init=10, random_state=1)\n",
    "\n",
    "#fit k-means algorithm to data\n",
    "kmeans.fit(X)\n",
    "\n",
    "#view cluster assignments for each observation\n",
    "#kmeans.labels_\n",
    "\n",
    "label = kmeans.fit_predict(X) \n",
    "print(label)"
   ]
  },
  {
   "cell_type": "code",
   "execution_count": 109,
   "id": "70f9ce5d",
   "metadata": {},
   "outputs": [],
   "source": [
    "#append cluster assignments to clean_df\n",
    "#clean_df['labels'] = label\n",
    "\n",
    "#clean_df.head(3)             "
   ]
  },
  {
   "cell_type": "code",
   "execution_count": 110,
   "id": "fb2b044b",
   "metadata": {},
   "outputs": [],
   "source": [
    "#filter rows of original data\n",
    "#filtered_label0 = clean_df[label == 0]\n",
    "\n",
    "#filtered_label0"
   ]
  },
  {
   "cell_type": "code",
   "execution_count": 111,
   "id": "4a934484",
   "metadata": {},
   "outputs": [],
   "source": [
    "y_kmeans = KMeans(init=\"random\", n_clusters=3, n_init=10, random_state=1)\n",
    "z_kmeans = y_kmeans.fit_predict(X)"
   ]
  },
  {
   "cell_type": "code",
   "execution_count": 112,
   "id": "0fb11167",
   "metadata": {},
   "outputs": [
    {
     "name": "stdout",
     "output_type": "stream",
     "text": [
      "[0 1 2]\n"
     ]
    }
   ],
   "source": [
    "#Getting unique labels \n",
    "import numpy as np\n",
    "u_labels = np.unique(z_kmeans)\n",
    "print (u_labels)"
   ]
  },
  {
   "cell_type": "code",
   "execution_count": 113,
   "id": "e5237130",
   "metadata": {},
   "outputs": [],
   "source": [
    "#plt.scatter(X[z_kmeans==0, 0], X[z_kmeans==0, 1], s=100, c='red', label = 'Cluster1')"
   ]
  },
  {
   "cell_type": "code",
   "execution_count": 114,
   "id": "65d5dc6c",
   "metadata": {},
   "outputs": [],
   "source": [
    "#plt.scatter(X[z_kmeans==1, 0], X[z_kmeans==1, 1], s=100, c='blue', label = 'Cluster2')"
   ]
  },
  {
   "cell_type": "code",
   "execution_count": 115,
   "id": "5cb24b74",
   "metadata": {},
   "outputs": [],
   "source": [
    "#plt.scatter(X[z_kmeans==2, 0], X[z_kmeans==2, 1], s=100, c='green', label = 'Cluster3')"
   ]
  },
  {
   "cell_type": "code",
   "execution_count": 116,
   "id": "15ce8850",
   "metadata": {},
   "outputs": [],
   "source": [
    "#plt.scatter(X[z_kmeans==3, 0], X[z_kmeans==3, 1], s=100, c='cyan', label = 'Cluster4')"
   ]
  },
  {
   "cell_type": "code",
   "execution_count": 117,
   "id": "ddb699d9",
   "metadata": {},
   "outputs": [
    {
     "data": {
      "image/png": "[encoded data removed]",
      "text/plain": [
       "<Figure size 640x480 with 1 Axes>"
      ]
     },
     "metadata": {},
     "output_type": "display_data"
    }
   ],
   "source": [
    "plt.scatter(X[z_kmeans==0, 0], X[z_kmeans==0, 1], s=100, c='red', label = 'Cluster1')\n",
    "plt.scatter(X[z_kmeans==1, 0], X[z_kmeans==1, 1], s=100, c='blue', label = 'Cluster2')\n",
    "plt.scatter(X[z_kmeans==2, 0], X[z_kmeans==2, 1], s=100, c='green', label = 'Cluster3')\n",
    "#plt.scatter(X[z_kmeans==3, 0], X[z_kmeans==3, 1], s=100, c='cyan', label = 'Cluster4')\n",
    "\n",
    "plt.scatter(y_kmeans.cluster_centers_[:, 0], y_kmeans.cluster_centers_[:, 1], s=300, c='yellow', label = 'Centroids')\n",
    "plt.xlabel('danceability')\n",
    "plt.ylabel('tempo')\n",
    "plt.show()"
   ]
  },
  {
   "cell_type": "code",
   "execution_count": 118,
   "id": "555d3060",
   "metadata": {},
   "outputs": [],
   "source": [
    "#Try PCA, random forest\n",
    "Decision_df = copy_df.drop(columns = ['artist', 'genre', 'song', 'instrumentalness', 'popularity'])"
   ]
  },
  {
   "cell_type": "code",
   "execution_count": 119,
   "id": "2f5c5d75",
   "metadata": {},
   "outputs": [
    {
     "data": {
      "text/plain": [
       "(1936, 13)"
      ]
     },
     "execution_count": 119,
     "metadata": {},
     "output_type": "execute_result"
    }
   ],
   "source": [
    "#remove duplicate rows (remove rows that have same value across all columns)\n",
    "Decision_df = Decision_df.drop_duplicates()\n",
    "\n",
    "#confirm duplicate rows removed\n",
    "Decision_df.shape"
   ]
  },
  {
   "cell_type": "code",
   "execution_count": 120,
   "id": "37556acb",
   "metadata": {},
   "outputs": [],
   "source": [
    "Decision_df = Decision_df[(Decision_df['duration_ms'] < 300000)]"
   ]
  },
  {
   "cell_type": "code",
   "execution_count": 121,
   "id": "d24c4855",
   "metadata": {},
   "outputs": [
    {
     "data": {
      "text/html": [
       "<div>\n",
       "<style scoped>\n",
       "    .dataframe tbody tr th:only-of-type {\n",
       "        vertical-align: middle;\n",
       "    }\n",
       "\n",
       "    .dataframe tbody tr th {\n",
       "        vertical-align: top;\n",
       "    }\n",
       "\n",
       "    .dataframe thead th {\n",
       "        text-align: right;\n",
       "    }\n",
       "</style>\n",
       "<table border=\"1\" class=\"dataframe\">\n",
       "  <thead>\n",
       "    <tr style=\"text-align: right;\">\n",
       "      <th></th>\n",
       "      <th>duration_ms</th>\n",
       "      <th>explicit</th>\n",
       "      <th>year</th>\n",
       "      <th>danceability</th>\n",
       "      <th>energy</th>\n",
       "      <th>key</th>\n",
       "      <th>loudness</th>\n",
       "      <th>mode</th>\n",
       "      <th>speechiness</th>\n",
       "      <th>acousticness</th>\n",
       "      <th>liveness</th>\n",
       "      <th>valence</th>\n",
       "      <th>tempo</th>\n",
       "    </tr>\n",
       "  </thead>\n",
       "  <tbody>\n",
       "    <tr>\n",
       "      <th>0</th>\n",
       "      <td>211160</td>\n",
       "      <td>False</td>\n",
       "      <td>2000</td>\n",
       "      <td>0.751</td>\n",
       "      <td>0.834</td>\n",
       "      <td>1</td>\n",
       "      <td>-5.444</td>\n",
       "      <td>0</td>\n",
       "      <td>0.0437</td>\n",
       "      <td>0.3000</td>\n",
       "      <td>0.355</td>\n",
       "      <td>0.894</td>\n",
       "      <td>95.053</td>\n",
       "    </tr>\n",
       "    <tr>\n",
       "      <th>1</th>\n",
       "      <td>167066</td>\n",
       "      <td>False</td>\n",
       "      <td>1999</td>\n",
       "      <td>0.434</td>\n",
       "      <td>0.897</td>\n",
       "      <td>0</td>\n",
       "      <td>-4.918</td>\n",
       "      <td>1</td>\n",
       "      <td>0.0488</td>\n",
       "      <td>0.0103</td>\n",
       "      <td>0.612</td>\n",
       "      <td>0.684</td>\n",
       "      <td>148.726</td>\n",
       "    </tr>\n",
       "  </tbody>\n",
       "</table>\n",
       "</div>"
      ],
      "text/plain": [
       "   duration_ms  explicit  year  danceability  energy  key  loudness  mode  \\\n",
       "0       211160     False  2000         0.751   0.834    1    -5.444     0   \n",
       "1       167066     False  1999         0.434   0.897    0    -4.918     1   \n",
       "\n",
       "   speechiness  acousticness  liveness  valence    tempo  \n",
       "0       0.0437        0.3000     0.355    0.894   95.053  \n",
       "1       0.0488        0.0103     0.612    0.684  148.726  "
      ]
     },
     "execution_count": 121,
     "metadata": {},
     "output_type": "execute_result"
    }
   ],
   "source": [
    "Decision_df.head(2)"
   ]
  },
  {
   "cell_type": "code",
   "execution_count": 122,
   "id": "52dd1d63",
   "metadata": {},
   "outputs": [
    {
     "data": {
      "text/plain": [
       "(1848, 13)"
      ]
     },
     "execution_count": 122,
     "metadata": {},
     "output_type": "execute_result"
    }
   ],
   "source": [
    "Decision_df.shape"
   ]
  },
  {
   "cell_type": "code",
   "execution_count": 123,
   "id": "25132fb3",
   "metadata": {
    "scrolled": true
   },
   "outputs": [
    {
     "data": {
      "text/html": [
       "<div>\n",
       "<style scoped>\n",
       "    .dataframe tbody tr th:only-of-type {\n",
       "        vertical-align: middle;\n",
       "    }\n",
       "\n",
       "    .dataframe tbody tr th {\n",
       "        vertical-align: top;\n",
       "    }\n",
       "\n",
       "    .dataframe thead th {\n",
       "        text-align: right;\n",
       "    }\n",
       "</style>\n",
       "<table border=\"1\" class=\"dataframe\">\n",
       "  <thead>\n",
       "    <tr style=\"text-align: right;\">\n",
       "      <th></th>\n",
       "      <th>duration_ms</th>\n",
       "      <th>explicit</th>\n",
       "      <th>year</th>\n",
       "      <th>danceability</th>\n",
       "      <th>energy</th>\n",
       "      <th>key</th>\n",
       "      <th>loudness</th>\n",
       "      <th>mode</th>\n",
       "      <th>speechiness</th>\n",
       "      <th>acousticness</th>\n",
       "      <th>liveness</th>\n",
       "      <th>valence</th>\n",
       "      <th>tempo</th>\n",
       "    </tr>\n",
       "  </thead>\n",
       "  <tbody>\n",
       "    <tr>\n",
       "      <th>0</th>\n",
       "      <td>211160</td>\n",
       "      <td>False</td>\n",
       "      <td>2000</td>\n",
       "      <td>0.751</td>\n",
       "      <td>0.834</td>\n",
       "      <td>1</td>\n",
       "      <td>-5.444</td>\n",
       "      <td>0</td>\n",
       "      <td>0.0437</td>\n",
       "      <td>0.3000</td>\n",
       "      <td>0.3550</td>\n",
       "      <td>0.894</td>\n",
       "      <td>95.053</td>\n",
       "    </tr>\n",
       "    <tr>\n",
       "      <th>1</th>\n",
       "      <td>167066</td>\n",
       "      <td>False</td>\n",
       "      <td>1999</td>\n",
       "      <td>0.434</td>\n",
       "      <td>0.897</td>\n",
       "      <td>0</td>\n",
       "      <td>-4.918</td>\n",
       "      <td>1</td>\n",
       "      <td>0.0488</td>\n",
       "      <td>0.0103</td>\n",
       "      <td>0.6120</td>\n",
       "      <td>0.684</td>\n",
       "      <td>148.726</td>\n",
       "    </tr>\n",
       "    <tr>\n",
       "      <th>2</th>\n",
       "      <td>250546</td>\n",
       "      <td>False</td>\n",
       "      <td>1999</td>\n",
       "      <td>0.529</td>\n",
       "      <td>0.496</td>\n",
       "      <td>7</td>\n",
       "      <td>-9.007</td>\n",
       "      <td>1</td>\n",
       "      <td>0.0290</td>\n",
       "      <td>0.1730</td>\n",
       "      <td>0.2510</td>\n",
       "      <td>0.278</td>\n",
       "      <td>136.859</td>\n",
       "    </tr>\n",
       "    <tr>\n",
       "      <th>3</th>\n",
       "      <td>224493</td>\n",
       "      <td>False</td>\n",
       "      <td>2000</td>\n",
       "      <td>0.551</td>\n",
       "      <td>0.913</td>\n",
       "      <td>0</td>\n",
       "      <td>-4.063</td>\n",
       "      <td>0</td>\n",
       "      <td>0.0466</td>\n",
       "      <td>0.0263</td>\n",
       "      <td>0.3470</td>\n",
       "      <td>0.544</td>\n",
       "      <td>119.992</td>\n",
       "    </tr>\n",
       "    <tr>\n",
       "      <th>4</th>\n",
       "      <td>200560</td>\n",
       "      <td>False</td>\n",
       "      <td>2000</td>\n",
       "      <td>0.614</td>\n",
       "      <td>0.928</td>\n",
       "      <td>8</td>\n",
       "      <td>-4.806</td>\n",
       "      <td>0</td>\n",
       "      <td>0.0516</td>\n",
       "      <td>0.0408</td>\n",
       "      <td>0.0845</td>\n",
       "      <td>0.879</td>\n",
       "      <td>172.656</td>\n",
       "    </tr>\n",
       "  </tbody>\n",
       "</table>\n",
       "</div>"
      ],
      "text/plain": [
       "   duration_ms  explicit  year  danceability  energy  key  loudness  mode  \\\n",
       "0       211160     False  2000         0.751   0.834    1    -5.444     0   \n",
       "1       167066     False  1999         0.434   0.897    0    -4.918     1   \n",
       "2       250546     False  1999         0.529   0.496    7    -9.007     1   \n",
       "3       224493     False  2000         0.551   0.913    0    -4.063     0   \n",
       "4       200560     False  2000         0.614   0.928    8    -4.806     0   \n",
       "\n",
       "   speechiness  acousticness  liveness  valence    tempo  \n",
       "0       0.0437        0.3000    0.3550    0.894   95.053  \n",
       "1       0.0488        0.0103    0.6120    0.684  148.726  \n",
       "2       0.0290        0.1730    0.2510    0.278  136.859  \n",
       "3       0.0466        0.0263    0.3470    0.544  119.992  \n",
       "4       0.0516        0.0408    0.0845    0.879  172.656  "
      ]
     },
     "execution_count": 123,
     "metadata": {},
     "output_type": "execute_result"
    }
   ],
   "source": [
    "Decision_df.head(5)"
   ]
  },
  {
   "cell_type": "code",
   "execution_count": 124,
   "id": "4e8cb078",
   "metadata": {},
   "outputs": [
    {
     "data": {
      "text/plain": [
       "<Axes: >"
      ]
     },
     "execution_count": 124,
     "metadata": {},
     "output_type": "execute_result"
    },
    {
     "data": {
      "image/png": "[encoded data removed]",
      "text/plain": [
       "<Figure size 640x480 with 2 Axes>"
      ]
     },
     "metadata": {},
     "output_type": "display_data"
    }
   ],
   "source": [
    "#can I predict danceability based on other variables?\n",
    "#make a correlation matrix\n",
    "import seaborn as sns\n",
    "sns.heatmap(Decision_df.corr(),\n",
    "           annot = True, \n",
    "           fmt = '.1g',\n",
    "           center = 0, \n",
    "           cmap = 'coolwarm',\n",
    "            linewidths = 1, \n",
    "            linecolor = 'black')\n"
   ]
  },
  {
   "cell_type": "code",
   "execution_count": 242,
   "id": "965783f8",
   "metadata": {},
   "outputs": [],
   "source": [
    "#classify a song as either 'danceable' (> 0.67) or not\n",
    "#danceble = 1\n",
    "#not danceable = 0 \n",
    "Decision_df['danceable'] = Decision_df['danceability'].apply(lambda rating : +1 if rating > 0.67 else 0)"
   ]
  },
  {
   "cell_type": "code",
   "execution_count": 243,
   "id": "d35ef90c",
   "metadata": {},
   "outputs": [
    {
     "data": {
      "text/plain": [
       "967"
      ]
     },
     "execution_count": 243,
     "metadata": {},
     "output_type": "execute_result"
    }
   ],
   "source": [
    "#How many songs are danceable\n",
    "Decision_df['danceable'].sum()"
   ]
  },
  {
   "cell_type": "code",
   "execution_count": 244,
   "id": "1a500660",
   "metadata": {},
   "outputs": [
    {
     "data": {
      "text/html": [
       "<div>\n",
       "<style scoped>\n",
       "    .dataframe tbody tr th:only-of-type {\n",
       "        vertical-align: middle;\n",
       "    }\n",
       "\n",
       "    .dataframe tbody tr th {\n",
       "        vertical-align: top;\n",
       "    }\n",
       "\n",
       "    .dataframe thead th {\n",
       "        text-align: right;\n",
       "    }\n",
       "</style>\n",
       "<table border=\"1\" class=\"dataframe\">\n",
       "  <thead>\n",
       "    <tr style=\"text-align: right;\">\n",
       "      <th></th>\n",
       "      <th>duration_ms</th>\n",
       "      <th>explicit</th>\n",
       "      <th>year</th>\n",
       "      <th>energy</th>\n",
       "      <th>key</th>\n",
       "      <th>loudness</th>\n",
       "      <th>mode</th>\n",
       "      <th>speechiness</th>\n",
       "      <th>acousticness</th>\n",
       "      <th>liveness</th>\n",
       "      <th>valence</th>\n",
       "      <th>tempo</th>\n",
       "    </tr>\n",
       "  </thead>\n",
       "  <tbody>\n",
       "    <tr>\n",
       "      <th>0</th>\n",
       "      <td>211160</td>\n",
       "      <td>False</td>\n",
       "      <td>2000</td>\n",
       "      <td>0.834</td>\n",
       "      <td>1</td>\n",
       "      <td>-5.444</td>\n",
       "      <td>0</td>\n",
       "      <td>0.0437</td>\n",
       "      <td>0.3</td>\n",
       "      <td>0.355</td>\n",
       "      <td>0.894</td>\n",
       "      <td>95.053</td>\n",
       "    </tr>\n",
       "  </tbody>\n",
       "</table>\n",
       "</div>"
      ],
      "text/plain": [
       "   duration_ms  explicit  year  energy  key  loudness  mode  speechiness  \\\n",
       "0       211160     False  2000   0.834    1    -5.444     0       0.0437   \n",
       "\n",
       "   acousticness  liveness  valence   tempo  \n",
       "0           0.3     0.355    0.894  95.053  "
      ]
     },
     "execution_count": 244,
     "metadata": {},
     "output_type": "execute_result"
    }
   ],
   "source": [
    "#dropping dancebility, danceble, and popularity b/c they are target variables\n",
    "#dropping year - assuming it is not relavant to analysis\n",
    "Decision_df2 = Decision_df.drop(['danceability', 'danceable'], axis = 1)\n",
    "Decision_df2.head(1)"
   ]
  },
  {
   "cell_type": "code",
   "execution_count": 245,
   "id": "fb50b531",
   "metadata": {},
   "outputs": [
    {
     "data": {
      "text/html": [
       "<div>\n",
       "<style scoped>\n",
       "    .dataframe tbody tr th:only-of-type {\n",
       "        vertical-align: middle;\n",
       "    }\n",
       "\n",
       "    .dataframe tbody tr th {\n",
       "        vertical-align: top;\n",
       "    }\n",
       "\n",
       "    .dataframe thead th {\n",
       "        text-align: right;\n",
       "    }\n",
       "</style>\n",
       "<table border=\"1\" class=\"dataframe\">\n",
       "  <thead>\n",
       "    <tr style=\"text-align: right;\">\n",
       "      <th></th>\n",
       "      <th>duration_ms</th>\n",
       "      <th>explicit</th>\n",
       "      <th>year</th>\n",
       "      <th>energy</th>\n",
       "      <th>key</th>\n",
       "      <th>loudness</th>\n",
       "      <th>mode</th>\n",
       "      <th>speechiness</th>\n",
       "      <th>acousticness</th>\n",
       "      <th>liveness</th>\n",
       "      <th>valence</th>\n",
       "      <th>tempo</th>\n",
       "    </tr>\n",
       "  </thead>\n",
       "  <tbody>\n",
       "    <tr>\n",
       "      <th>0</th>\n",
       "      <td>0.525032</td>\n",
       "      <td>0.0</td>\n",
       "      <td>0.090909</td>\n",
       "      <td>0.824636</td>\n",
       "      <td>0.090909</td>\n",
       "      <td>0.694941</td>\n",
       "      <td>0.0</td>\n",
       "      <td>0.037084</td>\n",
       "      <td>0.307363</td>\n",
       "      <td>0.401082</td>\n",
       "      <td>0.915499</td>\n",
       "      <td>0.232272</td>\n",
       "    </tr>\n",
       "    <tr>\n",
       "      <th>1</th>\n",
       "      <td>0.289185</td>\n",
       "      <td>0.0</td>\n",
       "      <td>0.045455</td>\n",
       "      <td>0.891593</td>\n",
       "      <td>0.000000</td>\n",
       "      <td>0.725990</td>\n",
       "      <td>1.0</td>\n",
       "      <td>0.046310</td>\n",
       "      <td>0.010534</td>\n",
       "      <td>0.710162</td>\n",
       "      <td>0.690876</td>\n",
       "      <td>0.588118</td>\n",
       "    </tr>\n",
       "  </tbody>\n",
       "</table>\n",
       "</div>"
      ],
      "text/plain": [
       "   duration_ms  explicit      year    energy       key  loudness  mode  \\\n",
       "0     0.525032       0.0  0.090909  0.824636  0.090909  0.694941   0.0   \n",
       "1     0.289185       0.0  0.045455  0.891593  0.000000  0.725990   1.0   \n",
       "\n",
       "   speechiness  acousticness  liveness   valence     tempo  \n",
       "0     0.037084      0.307363  0.401082  0.915499  0.232272  \n",
       "1     0.046310      0.010534  0.710162  0.690876  0.588118  "
      ]
     },
     "execution_count": 245,
     "metadata": {},
     "output_type": "execute_result"
    }
   ],
   "source": [
    "#PCA\n",
    "import matplotlib.pyplot as plt\n",
    "\n",
    "from sklearn.decomposition import PCA\n",
    "\n",
    "#Standardization first\n",
    "from sklearn.preprocessing import MinMaxScaler\n",
    "scaler = MinMaxScaler()\n",
    "Decision_scaled = scaler.fit_transform(Decision_df2)\n",
    "Decision_scaled = pd.DataFrame(Decision_scaled, columns = Decision_df2.columns)\n",
    "Decision_scaled.head(2)"
   ]
  },
  {
   "cell_type": "code",
   "execution_count": 246,
   "id": "6fdad868",
   "metadata": {},
   "outputs": [
    {
     "data": {
      "image/png": "[encoded data removed]",
      "text/plain": [
       "<Figure size 640x480 with 1 Axes>"
      ]
     },
     "metadata": {},
     "output_type": "display_data"
    }
   ],
   "source": [
    "import numpy as np\n",
    "\n",
    "#find optimal number of components\n",
    "model = PCA(random_state = 150).fit(Decision_scaled)\n",
    "plt.plot(model.explained_variance_ratio_, \n",
    "        linewidth = 2)\n",
    "plt.xlabel('Components')\n",
    "plt.ylabel('Explained Variance')\n",
    "plt.show()"
   ]
  },
  {
   "cell_type": "code",
   "execution_count": 247,
   "id": "3d1c0354",
   "metadata": {
    "scrolled": true
   },
   "outputs": [
    {
     "data": {
      "text/plain": [
       "<function matplotlib.pyplot.show(close=None, block=None)>"
      ]
     },
     "execution_count": 247,
     "metadata": {},
     "output_type": "execute_result"
    },
    {
     "data": {
      "image/png": "[encoded data removed]",
      "text/plain": [
       "<Figure size 640x480 with 1 Axes>"
      ]
     },
     "metadata": {},
     "output_type": "display_data"
    }
   ],
   "source": [
    "#cumulative sum\n",
    "plt.plot(np.cumsum(model.explained_variance_ratio_),\n",
    "        linewidth = 2)\n",
    "plt.xlabel('Components')\n",
    "plt.ylabel('Explained Variance Cumulative')\n",
    "plt.show"
   ]
  },
  {
   "cell_type": "code",
   "execution_count": 249,
   "id": "75871cc8",
   "metadata": {},
   "outputs": [
    {
     "data": {
      "text/html": [
       "<div>\n",
       "<style scoped>\n",
       "    .dataframe tbody tr th:only-of-type {\n",
       "        vertical-align: middle;\n",
       "    }\n",
       "\n",
       "    .dataframe tbody tr th {\n",
       "        vertical-align: top;\n",
       "    }\n",
       "\n",
       "    .dataframe thead th {\n",
       "        text-align: right;\n",
       "    }\n",
       "</style>\n",
       "<table border=\"1\" class=\"dataframe\">\n",
       "  <thead>\n",
       "    <tr style=\"text-align: right;\">\n",
       "      <th></th>\n",
       "      <th>duration_ms</th>\n",
       "      <th>explicit</th>\n",
       "      <th>year</th>\n",
       "      <th>energy</th>\n",
       "      <th>key</th>\n",
       "      <th>loudness</th>\n",
       "      <th>mode</th>\n",
       "      <th>speechiness</th>\n",
       "      <th>acousticness</th>\n",
       "      <th>liveness</th>\n",
       "      <th>valence</th>\n",
       "      <th>tempo</th>\n",
       "    </tr>\n",
       "  </thead>\n",
       "  <tbody>\n",
       "    <tr>\n",
       "      <th>0</th>\n",
       "      <td>0.009623</td>\n",
       "      <td>0.234459</td>\n",
       "      <td>0.011138</td>\n",
       "      <td>-0.033238</td>\n",
       "      <td>-0.163594</td>\n",
       "      <td>-0.016256</td>\n",
       "      <td>0.954748</td>\n",
       "      <td>0.032997</td>\n",
       "      <td>0.008851</td>\n",
       "      <td>0.007201</td>\n",
       "      <td>-0.057991</td>\n",
       "      <td>0.023532</td>\n",
       "    </tr>\n",
       "    <tr>\n",
       "      <th>1</th>\n",
       "      <td>0.034019</td>\n",
       "      <td>0.948804</td>\n",
       "      <td>0.068364</td>\n",
       "      <td>-0.065755</td>\n",
       "      <td>0.075889</td>\n",
       "      <td>-0.028770</td>\n",
       "      <td>-0.230781</td>\n",
       "      <td>0.171477</td>\n",
       "      <td>-0.004572</td>\n",
       "      <td>-0.004507</td>\n",
       "      <td>-0.017785</td>\n",
       "      <td>-0.002599</td>\n",
       "    </tr>\n",
       "    <tr>\n",
       "      <th>2</th>\n",
       "      <td>0.013492</td>\n",
       "      <td>0.033250</td>\n",
       "      <td>0.001656</td>\n",
       "      <td>0.005258</td>\n",
       "      <td>-0.982657</td>\n",
       "      <td>0.003851</td>\n",
       "      <td>-0.178326</td>\n",
       "      <td>0.008644</td>\n",
       "      <td>-0.002704</td>\n",
       "      <td>0.026176</td>\n",
       "      <td>-0.021789</td>\n",
       "      <td>0.003357</td>\n",
       "    </tr>\n",
       "    <tr>\n",
       "      <th>3</th>\n",
       "      <td>-0.188012</td>\n",
       "      <td>-0.072319</td>\n",
       "      <td>0.803837</td>\n",
       "      <td>-0.199493</td>\n",
       "      <td>0.008538</td>\n",
       "      <td>-0.075702</td>\n",
       "      <td>-0.026224</td>\n",
       "      <td>-0.058925</td>\n",
       "      <td>0.139861</td>\n",
       "      <td>-0.048292</td>\n",
       "      <td>-0.489508</td>\n",
       "      <td>0.044678</td>\n",
       "    </tr>\n",
       "  </tbody>\n",
       "</table>\n",
       "</div>"
      ],
      "text/plain": [
       "   duration_ms  explicit      year    energy       key  loudness      mode  \\\n",
       "0     0.009623  0.234459  0.011138 -0.033238 -0.163594 -0.016256  0.954748   \n",
       "1     0.034019  0.948804  0.068364 -0.065755  0.075889 -0.028770 -0.230781   \n",
       "2     0.013492  0.033250  0.001656  0.005258 -0.982657  0.003851 -0.178326   \n",
       "3    -0.188012 -0.072319  0.803837 -0.199493  0.008538 -0.075702 -0.026224   \n",
       "\n",
       "   speechiness  acousticness  liveness   valence     tempo  \n",
       "0     0.032997      0.008851  0.007201 -0.057991  0.023532  \n",
       "1     0.171477     -0.004572 -0.004507 -0.017785 -0.002599  \n",
       "2     0.008644     -0.002704  0.026176 -0.021789  0.003357  \n",
       "3    -0.058925      0.139861 -0.048292 -0.489508  0.044678  "
      ]
     },
     "execution_count": 249,
     "metadata": {},
     "output_type": "execute_result"
    }
   ],
   "source": [
    "#PCA \n",
    "model = PCA(n_components=4,\n",
    "           random_state = 1502).fit(Decision_scaled)\n",
    "\n",
    "#Interpretation\n",
    "model_interpretation = pd.DataFrame(model.components_,\n",
    "                                   columns = Decision_df2.columns)\n",
    "model_interpretation"
   ]
  },
  {
   "cell_type": "code",
   "execution_count": 250,
   "id": "ae9e2903",
   "metadata": {},
   "outputs": [
    {
     "data": {
      "text/html": [
       "<div>\n",
       "<style scoped>\n",
       "    .dataframe tbody tr th:only-of-type {\n",
       "        vertical-align: middle;\n",
       "    }\n",
       "\n",
       "    .dataframe tbody tr th {\n",
       "        vertical-align: top;\n",
       "    }\n",
       "\n",
       "    .dataframe thead th {\n",
       "        text-align: right;\n",
       "    }\n",
       "</style>\n",
       "<table border=\"1\" class=\"dataframe\">\n",
       "  <thead>\n",
       "    <tr style=\"text-align: right;\">\n",
       "      <th></th>\n",
       "      <th>PCA1</th>\n",
       "      <th>PCA2</th>\n",
       "      <th>PCA3</th>\n",
       "      <th>PCA4</th>\n",
       "    </tr>\n",
       "  </thead>\n",
       "  <tbody>\n",
       "    <tr>\n",
       "      <th>0</th>\n",
       "      <td>-0.561678</td>\n",
       "      <td>-0.222335</td>\n",
       "      <td>0.474362</td>\n",
       "      <td>-0.496918</td>\n",
       "    </tr>\n",
       "    <tr>\n",
       "      <th>1</th>\n",
       "      <td>0.423739</td>\n",
       "      <td>-0.471826</td>\n",
       "      <td>0.397645</td>\n",
       "      <td>-0.462953</td>\n",
       "    </tr>\n",
       "    <tr>\n",
       "      <th>2</th>\n",
       "      <td>0.362520</td>\n",
       "      <td>-0.370394</td>\n",
       "      <td>-0.227754</td>\n",
       "      <td>-0.182720</td>\n",
       "    </tr>\n",
       "    <tr>\n",
       "      <th>3</th>\n",
       "      <td>-0.527013</td>\n",
       "      <td>-0.226221</td>\n",
       "      <td>0.574676</td>\n",
       "      <td>-0.382445</td>\n",
       "    </tr>\n",
       "    <tr>\n",
       "      <th>4</th>\n",
       "      <td>-0.661446</td>\n",
       "      <td>-0.179544</td>\n",
       "      <td>-0.156656</td>\n",
       "      <td>-0.495042</td>\n",
       "    </tr>\n",
       "  </tbody>\n",
       "</table>\n",
       "</div>"
      ],
      "text/plain": [
       "       PCA1      PCA2      PCA3      PCA4\n",
       "0 -0.561678 -0.222335  0.474362 -0.496918\n",
       "1  0.423739 -0.471826  0.397645 -0.462953\n",
       "2  0.362520 -0.370394 -0.227754 -0.182720\n",
       "3 -0.527013 -0.226221  0.574676 -0.382445\n",
       "4 -0.661446 -0.179544 -0.156656 -0.495042"
      ]
     },
     "execution_count": 250,
     "metadata": {},
     "output_type": "execute_result"
    }
   ],
   "source": [
    "#appending PCAs to original data set \n",
    "components = model.transform(Decision_scaled)\n",
    "components = pd.DataFrame(components,\n",
    "                        columns = ['PCA1', 'PCA2', 'PCA3', 'PCA4'])\n",
    "\n",
    "components.head()"
   ]
  },
  {
   "cell_type": "code",
   "execution_count": 286,
   "id": "8fff6d7f",
   "metadata": {},
   "outputs": [
    {
     "data": {
      "text/html": [
       "<div>\n",
       "<style scoped>\n",
       "    .dataframe tbody tr th:only-of-type {\n",
       "        vertical-align: middle;\n",
       "    }\n",
       "\n",
       "    .dataframe tbody tr th {\n",
       "        vertical-align: top;\n",
       "    }\n",
       "\n",
       "    .dataframe thead th {\n",
       "        text-align: right;\n",
       "    }\n",
       "</style>\n",
       "<table border=\"1\" class=\"dataframe\">\n",
       "  <thead>\n",
       "    <tr style=\"text-align: right;\">\n",
       "      <th></th>\n",
       "      <th>duration_ms</th>\n",
       "      <th>explicit</th>\n",
       "      <th>year</th>\n",
       "      <th>danceability</th>\n",
       "      <th>energy</th>\n",
       "      <th>key</th>\n",
       "      <th>loudness</th>\n",
       "      <th>mode</th>\n",
       "      <th>speechiness</th>\n",
       "      <th>acousticness</th>\n",
       "      <th>liveness</th>\n",
       "      <th>valence</th>\n",
       "      <th>tempo</th>\n",
       "      <th>danceable</th>\n",
       "    </tr>\n",
       "  </thead>\n",
       "  <tbody>\n",
       "    <tr>\n",
       "      <th>0</th>\n",
       "      <td>211160</td>\n",
       "      <td>False</td>\n",
       "      <td>2000</td>\n",
       "      <td>0.751</td>\n",
       "      <td>0.834</td>\n",
       "      <td>1</td>\n",
       "      <td>-5.444</td>\n",
       "      <td>0</td>\n",
       "      <td>0.0437</td>\n",
       "      <td>0.3000</td>\n",
       "      <td>0.355</td>\n",
       "      <td>0.894</td>\n",
       "      <td>95.053</td>\n",
       "      <td>1</td>\n",
       "    </tr>\n",
       "    <tr>\n",
       "      <th>1</th>\n",
       "      <td>167066</td>\n",
       "      <td>False</td>\n",
       "      <td>1999</td>\n",
       "      <td>0.434</td>\n",
       "      <td>0.897</td>\n",
       "      <td>0</td>\n",
       "      <td>-4.918</td>\n",
       "      <td>1</td>\n",
       "      <td>0.0488</td>\n",
       "      <td>0.0103</td>\n",
       "      <td>0.612</td>\n",
       "      <td>0.684</td>\n",
       "      <td>148.726</td>\n",
       "      <td>0</td>\n",
       "    </tr>\n",
       "  </tbody>\n",
       "</table>\n",
       "</div>"
      ],
      "text/plain": [
       "   duration_ms  explicit  year  danceability  energy  key  loudness  mode  \\\n",
       "0       211160     False  2000         0.751   0.834    1    -5.444     0   \n",
       "1       167066     False  1999         0.434   0.897    0    -4.918     1   \n",
       "\n",
       "   speechiness  acousticness  liveness  valence    tempo  danceable  \n",
       "0       0.0437        0.3000     0.355    0.894   95.053          1  \n",
       "1       0.0488        0.0103     0.612    0.684  148.726          0  "
      ]
     },
     "execution_count": 286,
     "metadata": {},
     "output_type": "execute_result"
    }
   ],
   "source": [
    "Decision_df.head(2)"
   ]
  },
  {
   "cell_type": "code",
   "execution_count": 287,
   "id": "b6602ab8",
   "metadata": {},
   "outputs": [
    {
     "data": {
      "text/html": [
       "<div>\n",
       "<style scoped>\n",
       "    .dataframe tbody tr th:only-of-type {\n",
       "        vertical-align: middle;\n",
       "    }\n",
       "\n",
       "    .dataframe tbody tr th {\n",
       "        vertical-align: top;\n",
       "    }\n",
       "\n",
       "    .dataframe thead th {\n",
       "        text-align: right;\n",
       "    }\n",
       "</style>\n",
       "<table border=\"1\" class=\"dataframe\">\n",
       "  <thead>\n",
       "    <tr style=\"text-align: right;\">\n",
       "      <th></th>\n",
       "      <th>duration_ms</th>\n",
       "      <th>explicit</th>\n",
       "      <th>year</th>\n",
       "      <th>energy</th>\n",
       "      <th>key</th>\n",
       "      <th>loudness</th>\n",
       "      <th>mode</th>\n",
       "      <th>speechiness</th>\n",
       "      <th>acousticness</th>\n",
       "      <th>liveness</th>\n",
       "      <th>valence</th>\n",
       "      <th>tempo</th>\n",
       "    </tr>\n",
       "  </thead>\n",
       "  <tbody>\n",
       "    <tr>\n",
       "      <th>0</th>\n",
       "      <td>211160</td>\n",
       "      <td>False</td>\n",
       "      <td>2000</td>\n",
       "      <td>0.834</td>\n",
       "      <td>1</td>\n",
       "      <td>-5.444</td>\n",
       "      <td>0</td>\n",
       "      <td>0.0437</td>\n",
       "      <td>0.3000</td>\n",
       "      <td>0.355</td>\n",
       "      <td>0.894</td>\n",
       "      <td>95.053</td>\n",
       "    </tr>\n",
       "    <tr>\n",
       "      <th>1</th>\n",
       "      <td>167066</td>\n",
       "      <td>False</td>\n",
       "      <td>1999</td>\n",
       "      <td>0.897</td>\n",
       "      <td>0</td>\n",
       "      <td>-4.918</td>\n",
       "      <td>1</td>\n",
       "      <td>0.0488</td>\n",
       "      <td>0.0103</td>\n",
       "      <td>0.612</td>\n",
       "      <td>0.684</td>\n",
       "      <td>148.726</td>\n",
       "    </tr>\n",
       "  </tbody>\n",
       "</table>\n",
       "</div>"
      ],
      "text/plain": [
       "   duration_ms  explicit  year  energy  key  loudness  mode  speechiness  \\\n",
       "0       211160     False  2000   0.834    1    -5.444     0       0.0437   \n",
       "1       167066     False  1999   0.897    0    -4.918     1       0.0488   \n",
       "\n",
       "   acousticness  liveness  valence    tempo  \n",
       "0        0.3000     0.355    0.894   95.053  \n",
       "1        0.0103     0.612    0.684  148.726  "
      ]
     },
     "execution_count": 287,
     "metadata": {},
     "output_type": "execute_result"
    }
   ],
   "source": [
    "Decision_df2.head(2)"
   ]
  },
  {
   "cell_type": "code",
   "execution_count": 291,
   "id": "cda09baa",
   "metadata": {},
   "outputs": [],
   "source": [
    "Decision_df3 = Decision_df.drop(['danceability'], axis = 1)"
   ]
  },
  {
   "cell_type": "code",
   "execution_count": 292,
   "id": "4f4bdc10",
   "metadata": {},
   "outputs": [
    {
     "data": {
      "text/html": [
       "<div>\n",
       "<style scoped>\n",
       "    .dataframe tbody tr th:only-of-type {\n",
       "        vertical-align: middle;\n",
       "    }\n",
       "\n",
       "    .dataframe tbody tr th {\n",
       "        vertical-align: top;\n",
       "    }\n",
       "\n",
       "    .dataframe thead th {\n",
       "        text-align: right;\n",
       "    }\n",
       "</style>\n",
       "<table border=\"1\" class=\"dataframe\">\n",
       "  <thead>\n",
       "    <tr style=\"text-align: right;\">\n",
       "      <th></th>\n",
       "      <th>duration_ms</th>\n",
       "      <th>explicit</th>\n",
       "      <th>year</th>\n",
       "      <th>energy</th>\n",
       "      <th>key</th>\n",
       "      <th>loudness</th>\n",
       "      <th>mode</th>\n",
       "      <th>speechiness</th>\n",
       "      <th>acousticness</th>\n",
       "      <th>liveness</th>\n",
       "      <th>valence</th>\n",
       "      <th>tempo</th>\n",
       "      <th>danceable</th>\n",
       "    </tr>\n",
       "  </thead>\n",
       "  <tbody>\n",
       "    <tr>\n",
       "      <th>0</th>\n",
       "      <td>211160</td>\n",
       "      <td>False</td>\n",
       "      <td>2000</td>\n",
       "      <td>0.834</td>\n",
       "      <td>1</td>\n",
       "      <td>-5.444</td>\n",
       "      <td>0</td>\n",
       "      <td>0.0437</td>\n",
       "      <td>0.3</td>\n",
       "      <td>0.355</td>\n",
       "      <td>0.894</td>\n",
       "      <td>95.053</td>\n",
       "      <td>1</td>\n",
       "    </tr>\n",
       "  </tbody>\n",
       "</table>\n",
       "</div>"
      ],
      "text/plain": [
       "   duration_ms  explicit  year  energy  key  loudness  mode  speechiness  \\\n",
       "0       211160     False  2000   0.834    1    -5.444     0       0.0437   \n",
       "\n",
       "   acousticness  liveness  valence   tempo  danceable  \n",
       "0           0.3     0.355    0.894  95.053          1  "
      ]
     },
     "execution_count": 292,
     "metadata": {},
     "output_type": "execute_result"
    }
   ],
   "source": [
    "Decision_df3.head(1)"
   ]
  },
  {
   "cell_type": "code",
   "execution_count": 293,
   "id": "802d946f",
   "metadata": {},
   "outputs": [],
   "source": [
    "#splitting data into features and target (danceable)\n",
    "X = Decision_df3.drop('danceable', axis=1)\n",
    "y = Decision_df3['danceable']"
   ]
  },
  {
   "cell_type": "code",
   "execution_count": 296,
   "id": "7fbd18ea",
   "metadata": {},
   "outputs": [
    {
     "data": {
      "text/plain": [
       "0    1\n",
       "1    0\n",
       "2    0\n",
       "3    0\n",
       "4    0\n",
       "Name: danceable, dtype: int64"
      ]
     },
     "execution_count": 296,
     "metadata": {},
     "output_type": "execute_result"
    }
   ],
   "source": [
    "#X.head()\n",
    "y.head()"
   ]
  },
  {
   "cell_type": "code",
   "execution_count": 297,
   "id": "f574cb58",
   "metadata": {},
   "outputs": [],
   "source": [
    "#split data into training (80%) and test (20%)\n",
    "from sklearn.model_selection import train_test_split\n",
    "X_train, X_test, y_train, y_test = train_test_split(X, y, \n",
    "                                                   test_size = 0.2,\n",
    "                                                   random_state = 1502,\n",
    "                                                   stratify=y)"
   ]
  },
  {
   "cell_type": "code",
   "execution_count": 298,
   "id": "48cf89c7",
   "metadata": {},
   "outputs": [
    {
     "data": {
      "text/plain": [
       "array([1, 1, 1, 1, 1, 0, 1, 0, 0, 1, 0, 1, 0, 0, 1, 1, 0, 1, 0, 1],\n",
       "      dtype=int64)"
      ]
     },
     "execution_count": 298,
     "metadata": {},
     "output_type": "execute_result"
    }
   ],
   "source": [
    "#Random Forest\n",
    "from sklearn.ensemble import RandomForestClassifier\n",
    "model = RandomForestClassifier(n_estimators=100,\n",
    "                              criterion=\"entropy\",\n",
    "                              random_state = 1502)\n",
    "model.fit(X_train, y_train)\n",
    "\n",
    "#Predictions\n",
    "predictions = model.predict(X_test)\n",
    "predictions[:20]"
   ]
  },
  {
   "cell_type": "code",
   "execution_count": 299,
   "id": "e82008b2",
   "metadata": {},
   "outputs": [
    {
     "name": "stdout",
     "output_type": "stream",
     "text": [
      "              precision    recall  f1-score   support\n",
      "\n",
      "           0       0.78      0.76      0.77       176\n",
      "           1       0.78      0.80      0.79       194\n",
      "\n",
      "    accuracy                           0.78       370\n",
      "   macro avg       0.78      0.78      0.78       370\n",
      "weighted avg       0.78      0.78      0.78       370\n",
      "\n"
     ]
    }
   ],
   "source": [
    "#Confusion Matrix\n",
    "from sklearn.metrics import classification_report\n",
    "report = classification_report(y_test, predictions)\n",
    "print(report)"
   ]
  },
  {
   "cell_type": "code",
   "execution_count": 300,
   "id": "ad1dc884",
   "metadata": {},
   "outputs": [],
   "source": [
    "#Modelling\n",
    "from sklearn.ensemble import RandomForestClassifier\n",
    "from sklearn.metrics import accuracy_score, confusion_matrix, precision_score, recall_score, ConfusionMatrixDisplay\n",
    "from sklearn.model_selection import RandomizedSearchCV, train_test_split\n",
    "from scipy.stats import randint"
   ]
  },
  {
   "cell_type": "code",
   "execution_count": 302,
   "id": "1d6dbb35",
   "metadata": {},
   "outputs": [],
   "source": [
    "#don't use PCAs\n",
    "#splitting data into features and target (danceable)\n",
    "X = Decision_df3.drop('danceable', axis=1)\n",
    "y = Decision_df3['danceable']"
   ]
  },
  {
   "cell_type": "code",
   "execution_count": 303,
   "id": "88cc216b",
   "metadata": {},
   "outputs": [
    {
     "data": {
      "text/html": [
       "<div>\n",
       "<style scoped>\n",
       "    .dataframe tbody tr th:only-of-type {\n",
       "        vertical-align: middle;\n",
       "    }\n",
       "\n",
       "    .dataframe tbody tr th {\n",
       "        vertical-align: top;\n",
       "    }\n",
       "\n",
       "    .dataframe thead th {\n",
       "        text-align: right;\n",
       "    }\n",
       "</style>\n",
       "<table border=\"1\" class=\"dataframe\">\n",
       "  <thead>\n",
       "    <tr style=\"text-align: right;\">\n",
       "      <th></th>\n",
       "      <th>duration_ms</th>\n",
       "      <th>explicit</th>\n",
       "      <th>year</th>\n",
       "      <th>energy</th>\n",
       "      <th>key</th>\n",
       "      <th>loudness</th>\n",
       "      <th>mode</th>\n",
       "      <th>speechiness</th>\n",
       "      <th>acousticness</th>\n",
       "      <th>liveness</th>\n",
       "      <th>valence</th>\n",
       "      <th>tempo</th>\n",
       "    </tr>\n",
       "  </thead>\n",
       "  <tbody>\n",
       "    <tr>\n",
       "      <th>0</th>\n",
       "      <td>211160</td>\n",
       "      <td>False</td>\n",
       "      <td>2000</td>\n",
       "      <td>0.834</td>\n",
       "      <td>1</td>\n",
       "      <td>-5.444</td>\n",
       "      <td>0</td>\n",
       "      <td>0.0437</td>\n",
       "      <td>0.3000</td>\n",
       "      <td>0.3550</td>\n",
       "      <td>0.894</td>\n",
       "      <td>95.053</td>\n",
       "    </tr>\n",
       "    <tr>\n",
       "      <th>1</th>\n",
       "      <td>167066</td>\n",
       "      <td>False</td>\n",
       "      <td>1999</td>\n",
       "      <td>0.897</td>\n",
       "      <td>0</td>\n",
       "      <td>-4.918</td>\n",
       "      <td>1</td>\n",
       "      <td>0.0488</td>\n",
       "      <td>0.0103</td>\n",
       "      <td>0.6120</td>\n",
       "      <td>0.684</td>\n",
       "      <td>148.726</td>\n",
       "    </tr>\n",
       "    <tr>\n",
       "      <th>2</th>\n",
       "      <td>250546</td>\n",
       "      <td>False</td>\n",
       "      <td>1999</td>\n",
       "      <td>0.496</td>\n",
       "      <td>7</td>\n",
       "      <td>-9.007</td>\n",
       "      <td>1</td>\n",
       "      <td>0.0290</td>\n",
       "      <td>0.1730</td>\n",
       "      <td>0.2510</td>\n",
       "      <td>0.278</td>\n",
       "      <td>136.859</td>\n",
       "    </tr>\n",
       "    <tr>\n",
       "      <th>3</th>\n",
       "      <td>224493</td>\n",
       "      <td>False</td>\n",
       "      <td>2000</td>\n",
       "      <td>0.913</td>\n",
       "      <td>0</td>\n",
       "      <td>-4.063</td>\n",
       "      <td>0</td>\n",
       "      <td>0.0466</td>\n",
       "      <td>0.0263</td>\n",
       "      <td>0.3470</td>\n",
       "      <td>0.544</td>\n",
       "      <td>119.992</td>\n",
       "    </tr>\n",
       "    <tr>\n",
       "      <th>4</th>\n",
       "      <td>200560</td>\n",
       "      <td>False</td>\n",
       "      <td>2000</td>\n",
       "      <td>0.928</td>\n",
       "      <td>8</td>\n",
       "      <td>-4.806</td>\n",
       "      <td>0</td>\n",
       "      <td>0.0516</td>\n",
       "      <td>0.0408</td>\n",
       "      <td>0.0845</td>\n",
       "      <td>0.879</td>\n",
       "      <td>172.656</td>\n",
       "    </tr>\n",
       "  </tbody>\n",
       "</table>\n",
       "</div>"
      ],
      "text/plain": [
       "   duration_ms  explicit  year  energy  key  loudness  mode  speechiness  \\\n",
       "0       211160     False  2000   0.834    1    -5.444     0       0.0437   \n",
       "1       167066     False  1999   0.897    0    -4.918     1       0.0488   \n",
       "2       250546     False  1999   0.496    7    -9.007     1       0.0290   \n",
       "3       224493     False  2000   0.913    0    -4.063     0       0.0466   \n",
       "4       200560     False  2000   0.928    8    -4.806     0       0.0516   \n",
       "\n",
       "   acousticness  liveness  valence    tempo  \n",
       "0        0.3000    0.3550    0.894   95.053  \n",
       "1        0.0103    0.6120    0.684  148.726  \n",
       "2        0.1730    0.2510    0.278  136.859  \n",
       "3        0.0263    0.3470    0.544  119.992  \n",
       "4        0.0408    0.0845    0.879  172.656  "
      ]
     },
     "execution_count": 303,
     "metadata": {},
     "output_type": "execute_result"
    }
   ],
   "source": [
    "#confirming x and y are correct\n",
    "X.head()\n",
    "#y.head()"
   ]
  },
  {
   "cell_type": "code",
   "execution_count": 304,
   "id": "ea435868",
   "metadata": {},
   "outputs": [],
   "source": [
    "#split the data into training (80%) and test (20%) sets \n",
    "X_train, X_test, y_train, y_test = train_test_split(X, y, test_size=0.2)"
   ]
  },
  {
   "cell_type": "code",
   "execution_count": 305,
   "id": "1cea60ba",
   "metadata": {},
   "outputs": [
    {
     "data": {
      "text/html": [
       "<style>#sk-container-id-2 {color: black;}#sk-container-id-2 pre{padding: 0;}#sk-container-id-2 div.sk-toggleable {background-color: white;}#sk-container-id-2 label.sk-toggleable__label {cursor: pointer;display: block;width: 100%;margin-bottom: 0;padding: 0.3em;box-sizing: border-box;text-align: center;}#sk-container-id-2 label.sk-toggleable__label-arrow:before {content: \"▸\";float: left;margin-right: 0.25em;color: #696969;}#sk-container-id-2 label.sk-toggleable__label-arrow:hover:before {color: black;}#sk-container-id-2 div.sk-estimator:hover label.sk-toggleable__label-arrow:before {color: black;}#sk-container-id-2 div.sk-toggleable__content {max-height: 0;max-width: 0;overflow: hidden;text-align: left;background-color: #f0f8ff;}#sk-container-id-2 div.sk-toggleable__content pre {margin: 0.2em;color: black;border-radius: 0.25em;background-color: #f0f8ff;}#sk-container-id-2 input.sk-toggleable__control:checked~div.sk-toggleable__content {max-height: 200px;max-width: 100%;overflow: auto;}#sk-container-id-2 input.sk-toggleable__control:checked~label.sk-toggleable__label-arrow:before {content: \"▾\";}#sk-container-id-2 div.sk-estimator input.sk-toggleable__control:checked~label.sk-toggleable__label {background-color: #d4ebff;}#sk-container-id-2 div.sk-label input.sk-toggleable__control:checked~label.sk-toggleable__label {background-color: #d4ebff;}#sk-container-id-2 input.sk-hidden--visually {border: 0;clip: rect(1px 1px 1px 1px);clip: rect(1px, 1px, 1px, 1px);height: 1px;margin: -1px;overflow: hidden;padding: 0;position: absolute;width: 1px;}#sk-container-id-2 div.sk-estimator {font-family: monospace;background-color: #f0f8ff;border: 1px dotted black;border-radius: 0.25em;box-sizing: border-box;margin-bottom: 0.5em;}#sk-container-id-2 div.sk-estimator:hover {background-color: #d4ebff;}#sk-container-id-2 div.sk-parallel-item::after {content: \"\";width: 100%;border-bottom: 1px solid gray;flex-grow: 1;}#sk-container-id-2 div.sk-label:hover label.sk-toggleable__label {background-color: #d4ebff;}#sk-container-id-2 div.sk-serial::before {content: \"\";position: absolute;border-left: 1px solid gray;box-sizing: border-box;top: 0;bottom: 0;left: 50%;z-index: 0;}#sk-container-id-2 div.sk-serial {display: flex;flex-direction: column;align-items: center;background-color: white;padding-right: 0.2em;padding-left: 0.2em;position: relative;}#sk-container-id-2 div.sk-item {position: relative;z-index: 1;}#sk-container-id-2 div.sk-parallel {display: flex;align-items: stretch;justify-content: center;background-color: white;position: relative;}#sk-container-id-2 div.sk-item::before, #sk-container-id-2 div.sk-parallel-item::before {content: \"\";position: absolute;border-left: 1px solid gray;box-sizing: border-box;top: 0;bottom: 0;left: 50%;z-index: -1;}#sk-container-id-2 div.sk-parallel-item {display: flex;flex-direction: column;z-index: 1;position: relative;background-color: white;}#sk-container-id-2 div.sk-parallel-item:first-child::after {align-self: flex-end;width: 50%;}#sk-container-id-2 div.sk-parallel-item:last-child::after {align-self: flex-start;width: 50%;}#sk-container-id-2 div.sk-parallel-item:only-child::after {width: 0;}#sk-container-id-2 div.sk-dashed-wrapped {border: 1px dashed gray;margin: 0 0.4em 0.5em 0.4em;box-sizing: border-box;padding-bottom: 0.4em;background-color: white;}#sk-container-id-2 div.sk-label label {font-family: monospace;font-weight: bold;display: inline-block;line-height: 1.2em;}#sk-container-id-2 div.sk-label-container {text-align: center;}#sk-container-id-2 div.sk-container {/* jupyter's `normalize.less` sets `[hidden] { display: none; }` but bootstrap.min.css set `[hidden] { display: none !important; }` so we also need the `!important` here to be able to override the default hidden behavior on the sphinx rendered scikit-learn.org. See: https://github.com/scikit-learn/scikit-learn/issues/21755 */display: inline-block !important;position: relative;}#sk-container-id-2 div.sk-text-repr-fallback {display: none;}</style><div id=\"sk-container-id-2\" class=\"sk-top-container\"><div class=\"sk-text-repr-fallback\"><pre>RandomForestClassifier()</pre><b>In a Jupyter environment, please rerun this cell to show the HTML representation or trust the notebook. <br />On GitHub, the HTML representation is unable to render, please try loading this page with nbviewer.org.</b></div><div class=\"sk-container\" hidden><div class=\"sk-item\"><div class=\"sk-estimator sk-toggleable\"><input class=\"sk-toggleable__control sk-hidden--visually\" id=\"sk-estimator-id-2\" type=\"checkbox\" checked><label for=\"sk-estimator-id-2\" class=\"sk-toggleable__label sk-toggleable__label-arrow\">RandomForestClassifier</label><div class=\"sk-toggleable__content\"><pre>RandomForestClassifier()</pre></div></div></div></div></div>"
      ],
      "text/plain": [
       "RandomForestClassifier()"
      ]
     },
     "execution_count": 305,
     "metadata": {},
     "output_type": "execute_result"
    }
   ],
   "source": [
    "rf = RandomForestClassifier()\n",
    "rf.fit(X_train, y_train)"
   ]
  },
  {
   "cell_type": "code",
   "execution_count": 306,
   "id": "fe0f340d",
   "metadata": {},
   "outputs": [],
   "source": [
    "y_pred = rf.predict(X_test)"
   ]
  },
  {
   "cell_type": "code",
   "execution_count": 307,
   "id": "10a24c6a",
   "metadata": {},
   "outputs": [
    {
     "name": "stdout",
     "output_type": "stream",
     "text": [
      "Accuracy: 0.7594594594594595\n"
     ]
    }
   ],
   "source": [
    "accuracy = accuracy_score(y_test, y_pred)\n",
    "print(\"Accuracy:\", accuracy)"
   ]
  },
  {
   "cell_type": "code",
   "execution_count": 309,
   "id": "1b47ebfc",
   "metadata": {},
   "outputs": [
    {
     "data": {
      "text/plain": [
       "count    370.000000\n",
       "mean       0.529730\n",
       "std        0.499791\n",
       "min        0.000000\n",
       "25%        0.000000\n",
       "50%        1.000000\n",
       "75%        1.000000\n",
       "max        1.000000\n",
       "Name: danceable, dtype: float64"
      ]
     },
     "execution_count": 309,
     "metadata": {},
     "output_type": "execute_result"
    }
   ],
   "source": [
    "y_test.describe()"
   ]
  },
  {
   "cell_type": "code",
   "execution_count": 310,
   "id": "28bd9195",
   "metadata": {},
   "outputs": [
    {
     "name": "stdout",
     "output_type": "stream",
     "text": [
      "              precision    recall  f1-score   support\n",
      "\n",
      "           0       0.73      0.75      0.74       169\n",
      "           1       0.79      0.77      0.78       201\n",
      "\n",
      "    accuracy                           0.76       370\n",
      "   macro avg       0.76      0.76      0.76       370\n",
      "weighted avg       0.76      0.76      0.76       370\n",
      "\n"
     ]
    }
   ],
   "source": [
    "print(classification_report(y_pred, y_test))"
   ]
  },
  {
   "cell_type": "code",
   "execution_count": null,
   "id": "58967f9c",
   "metadata": {},
   "outputs": [],
   "source": []
  }
 ],
 "metadata": {
  "kernelspec": {
   "display_name": "Python 3 (ipykernel)",
   "language": "python",
   "name": "python3"
  },
  "language_info": {
   "codemirror_mode": {
    "name": "ipython",
    "version": 3
   },
   "file_extension": ".py",
   "mimetype": "text/x-python",
   "name": "python",
   "nbconvert_exporter": "python",
   "pygments_lexer": "ipython3",
   "version": "3.11.5"
  }
 },
 "nbformat": 4,
 "nbformat_minor": 5
}
